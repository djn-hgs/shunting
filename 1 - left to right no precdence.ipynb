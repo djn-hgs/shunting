{
 "cells": [
  {
   "metadata": {
    "ExecuteTime": {
     "end_time": "2025-06-13T13:10:05.058925Z",
     "start_time": "2025-06-13T13:10:05.047286Z"
    }
   },
   "cell_type": "code",
   "source": [
    "OPERATORS = [\n",
    "    \"+\",\n",
    "    \"-\",\n",
    "    \"*\",\n",
    "    \"/\",\n",
    "]"
   ],
   "id": "aee65bfc00c7823d",
   "outputs": [],
   "execution_count": 368
  },
  {
   "metadata": {
    "ExecuteTime": {
     "end_time": "2025-06-13T13:10:05.103830Z",
     "start_time": "2025-06-13T13:10:05.096235Z"
    }
   },
   "cell_type": "code",
   "source": "DIGITS = \"_0123456789\"",
   "id": "f6387932f2802ee7",
   "outputs": [],
   "execution_count": 369
  },
  {
   "cell_type": "code",
   "id": "initial_id",
   "metadata": {
    "collapsed": true,
    "ExecuteTime": {
     "end_time": "2025-06-13T13:10:05.136376Z",
     "start_time": "2025-06-13T13:10:05.126207Z"
    }
   },
   "source": "to_parse = \"8+5+3+13-5*2+12/4\"",
   "outputs": [],
   "execution_count": 370
  },
  {
   "metadata": {
    "ExecuteTime": {
     "end_time": "2025-06-13T13:10:05.167301Z",
     "start_time": "2025-06-13T13:10:05.158722Z"
    }
   },
   "cell_type": "code",
   "source": "cursor = 0",
   "id": "fe19dc5cc064f441",
   "outputs": [],
   "execution_count": 371
  },
  {
   "metadata": {
    "ExecuteTime": {
     "end_time": "2025-06-13T13:10:05.217162Z",
     "start_time": "2025-06-13T13:10:05.210465Z"
    }
   },
   "cell_type": "code",
   "source": [
    "def get_next():\n",
    "    global cursor\n",
    "\n",
    "    term_return = None\n",
    "\n",
    "    if to_parse[cursor] in OPERATORS:\n",
    "        term_return = to_parse[cursor]\n",
    "        cursor += 1\n",
    "\n",
    "    elif to_parse[cursor] in DIGITS:\n",
    "        term_return = ''\n",
    "\n",
    "        while cursor < len(to_parse) and to_parse[cursor] in DIGITS:\n",
    "            term_return += to_parse[cursor]\n",
    "            cursor += 1\n",
    "\n",
    "    else:\n",
    "        raise Exception(\"Parsing failed\")\n",
    "\n",
    "    return term_return"
   ],
   "id": "e1f3c5ec8cb62e99",
   "outputs": [],
   "execution_count": 372
  },
  {
   "metadata": {
    "ExecuteTime": {
     "end_time": "2025-06-13T13:10:05.235647Z",
     "start_time": "2025-06-13T13:10:05.230291Z"
    }
   },
   "cell_type": "code",
   "source": "tokens = []",
   "id": "f1d78aa792f64d6",
   "outputs": [],
   "execution_count": 373
  },
  {
   "metadata": {
    "ExecuteTime": {
     "end_time": "2025-06-13T13:10:05.261950Z",
     "start_time": "2025-06-13T13:10:05.252903Z"
    }
   },
   "cell_type": "code",
   "source": [
    "while cursor < len(to_parse):\n",
    "    tokens.append(get_next())\n",
    "    print(tokens)"
   ],
   "id": "4433deb4ba68b970",
   "outputs": [
    {
     "name": "stdout",
     "output_type": "stream",
     "text": [
      "['8']\n",
      "['8', '+']\n",
      "['8', '+', '5']\n",
      "['8', '+', '5', '+']\n",
      "['8', '+', '5', '+', '3']\n",
      "['8', '+', '5', '+', '3', '+']\n",
      "['8', '+', '5', '+', '3', '+', '13']\n",
      "['8', '+', '5', '+', '3', '+', '13', '-']\n",
      "['8', '+', '5', '+', '3', '+', '13', '-', '5']\n",
      "['8', '+', '5', '+', '3', '+', '13', '-', '5', '*']\n",
      "['8', '+', '5', '+', '3', '+', '13', '-', '5', '*', '2']\n",
      "['8', '+', '5', '+', '3', '+', '13', '-', '5', '*', '2', '+']\n",
      "['8', '+', '5', '+', '3', '+', '13', '-', '5', '*', '2', '+', '12']\n",
      "['8', '+', '5', '+', '3', '+', '13', '-', '5', '*', '2', '+', '12', '/']\n",
      "['8', '+', '5', '+', '3', '+', '13', '-', '5', '*', '2', '+', '12', '/', '4']\n"
     ]
    }
   ],
   "execution_count": 374
  },
  {
   "metadata": {
    "ExecuteTime": {
     "end_time": "2025-06-13T13:10:05.312978Z",
     "start_time": "2025-06-13T13:10:05.305473Z"
    }
   },
   "cell_type": "code",
   "source": [
    "rpn_output = [tokens.pop(0)]\n",
    "operator_stack = []"
   ],
   "id": "c3941439bea54ce",
   "outputs": [],
   "execution_count": 375
  },
  {
   "metadata": {
    "ExecuteTime": {
     "end_time": "2025-06-13T13:10:05.342694Z",
     "start_time": "2025-06-13T13:10:05.334025Z"
    }
   },
   "cell_type": "code",
   "source": [
    "while tokens:\n",
    "    current_token = tokens.pop(0)\n",
    "\n",
    "    if current_token in OPERATORS:\n",
    "        if operator_stack:\n",
    "            rpn_output.append(operator_stack.pop())\n",
    "        operator_stack.append(current_token)\n",
    "\n",
    "    else:\n",
    "        rpn_output.append(current_token)\n",
    "\n",
    "    print(f'Output: {rpn_output}')\n",
    "    print(f'Operator stack: {operator_stack}')\n",
    "\n",
    "while operator_stack:\n",
    "    rpn_output.append(operator_stack.pop())"
   ],
   "id": "4b075cb5a33fe2de",
   "outputs": [
    {
     "name": "stdout",
     "output_type": "stream",
     "text": [
      "Output: ['8']\n",
      "Operator stack: ['+']\n",
      "Output: ['8', '5']\n",
      "Operator stack: ['+']\n",
      "Output: ['8', '5', '+']\n",
      "Operator stack: ['+']\n",
      "Output: ['8', '5', '+', '3']\n",
      "Operator stack: ['+']\n",
      "Output: ['8', '5', '+', '3', '+']\n",
      "Operator stack: ['+']\n",
      "Output: ['8', '5', '+', '3', '+', '13']\n",
      "Operator stack: ['+']\n",
      "Output: ['8', '5', '+', '3', '+', '13', '+']\n",
      "Operator stack: ['-']\n",
      "Output: ['8', '5', '+', '3', '+', '13', '+', '5']\n",
      "Operator stack: ['-']\n",
      "Output: ['8', '5', '+', '3', '+', '13', '+', '5', '-']\n",
      "Operator stack: ['*']\n",
      "Output: ['8', '5', '+', '3', '+', '13', '+', '5', '-', '2']\n",
      "Operator stack: ['*']\n",
      "Output: ['8', '5', '+', '3', '+', '13', '+', '5', '-', '2', '*']\n",
      "Operator stack: ['+']\n",
      "Output: ['8', '5', '+', '3', '+', '13', '+', '5', '-', '2', '*', '12']\n",
      "Operator stack: ['+']\n",
      "Output: ['8', '5', '+', '3', '+', '13', '+', '5', '-', '2', '*', '12', '+']\n",
      "Operator stack: ['/']\n",
      "Output: ['8', '5', '+', '3', '+', '13', '+', '5', '-', '2', '*', '12', '+', '4']\n",
      "Operator stack: ['/']\n"
     ]
    }
   ],
   "execution_count": 376
  },
  {
   "metadata": {
    "ExecuteTime": {
     "end_time": "2025-06-13T13:10:05.482336Z",
     "start_time": "2025-06-13T13:10:05.471294Z"
    }
   },
   "cell_type": "code",
   "source": "rpn_output",
   "id": "5f26c5e3118de27f",
   "outputs": [
    {
     "data": {
      "text/plain": [
       "['8', '5', '+', '3', '+', '13', '+', '5', '-', '2', '*', '12', '+', '4', '/']"
      ]
     },
     "execution_count": 377,
     "metadata": {},
     "output_type": "execute_result"
    }
   ],
   "execution_count": 377
  }
 ],
 "metadata": {
  "kernelspec": {
   "display_name": "Python 3",
   "language": "python",
   "name": "python3"
  },
  "language_info": {
   "codemirror_mode": {
    "name": "ipython",
    "version": 2
   },
   "file_extension": ".py",
   "mimetype": "text/x-python",
   "name": "python",
   "nbconvert_exporter": "python",
   "pygments_lexer": "ipython2",
   "version": "2.7.6"
  }
 },
 "nbformat": 4,
 "nbformat_minor": 5
}
