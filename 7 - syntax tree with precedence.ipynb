{
 "cells": [
  {
   "cell_type": "code",
   "id": "1f955602ff2f9a7b",
   "metadata": {
    "ExecuteTime": {
     "end_time": "2025-06-16T14:56:05.684055Z",
     "start_time": "2025-06-16T14:56:05.677150Z"
    }
   },
   "source": [
    "import re\n",
    "\n",
    "token_pattern = re.compile(r'\\d+|[+\\-*/]')"
   ],
   "outputs": [],
   "execution_count": 134
  },
  {
   "metadata": {
    "collapsed": true,
    "ExecuteTime": {
     "end_time": "2025-06-16T15:07:37.174908Z",
     "start_time": "2025-06-16T15:07:37.165837Z"
    }
   },
   "cell_type": "code",
   "source": [
    "expr = \"3 * 5 + 4 * 2 + 4 * 3\"\n",
    "\n",
    "tokens = token_pattern.findall(expr)\n",
    "\n",
    "tokens"
   ],
   "id": "initial_id",
   "outputs": [
    {
     "data": {
      "text/plain": [
       "['3', '*', '5', '+', '4', '*', '2', '+', '4', '*', '3']"
      ]
     },
     "execution_count": 148,
     "metadata": {},
     "output_type": "execute_result"
    }
   ],
   "execution_count": 148
  },
  {
   "metadata": {
    "ExecuteTime": {
     "end_time": "2025-06-16T16:21:55.225079Z",
     "start_time": "2025-06-16T16:21:55.208725Z"
    }
   },
   "cell_type": "code",
   "source": [
    "OPERATORS = {\n",
    "    '+': 2,\n",
    "    '-': 2,\n",
    "    '*': 4,\n",
    "    '/': 4,\n",
    "    '^': 6,\n",
    "    '(': 0,\n",
    "    ')': 0,\n",
    "}"
   ],
   "id": "eaf0bad2045d65f0",
   "outputs": [],
   "execution_count": 157
  },
  {
   "metadata": {
    "ExecuteTime": {
     "end_time": "2025-06-16T16:21:55.541699Z",
     "start_time": "2025-06-16T16:21:55.535655Z"
    }
   },
   "cell_type": "code",
   "source": [
    "def precedence(token):\n",
    "    return OPERATORS[token]"
   ],
   "id": "f03ef3bba97d19ea",
   "outputs": [],
   "execution_count": 158
  },
  {
   "metadata": {
    "ExecuteTime": {
     "end_time": "2025-06-16T16:23:47.101936Z",
     "start_time": "2025-06-16T16:23:47.095194Z"
    }
   },
   "cell_type": "code",
   "source": [
    "def convert_to_rpn(token_list):\n",
    "    cursor = 0\n",
    "\n",
    "    operator_stack = []\n",
    "    rpn_out = []\n",
    "\n",
    "    while cursor < len(token_list):\n",
    "        token = token_list[cursor]\n",
    "        cursor += 1\n",
    "\n",
    "        if token in OPERATORS:\n",
    "            if operator_stack:\n",
    "                if precedence(operator_stack[-1]) > precedence(token):\n",
    "                    rpn_out.append(operator_stack.pop(-1))\n",
    "            operator_stack.append(token)\n",
    "        else:\n",
    "            rpn_out.append(token)\n",
    "\n",
    "    while operator_stack:\n",
    "        rpn_out.append(operator_stack.pop())\n",
    "\n",
    "    return rpn_out"
   ],
   "id": "779e756f25bffad0",
   "outputs": [],
   "execution_count": 176
  },
  {
   "metadata": {
    "ExecuteTime": {
     "end_time": "2025-06-16T16:23:47.704912Z",
     "start_time": "2025-06-16T16:23:47.697220Z"
    }
   },
   "cell_type": "code",
   "source": [
    "rpn_tokens = convert_to_rpn(tokens)\n",
    "rpn_tokens"
   ],
   "id": "a2ff27b3f79721b9",
   "outputs": [
    {
     "data": {
      "text/plain": [
       "['3', '5', '*', '4', '2', '*', '4', '3', '*', '+', '+']"
      ]
     },
     "execution_count": 177,
     "metadata": {},
     "output_type": "execute_result"
    }
   ],
   "execution_count": 177
  },
  {
   "metadata": {
    "ExecuteTime": {
     "end_time": "2025-06-16T16:23:50.561003Z",
     "start_time": "2025-06-16T16:23:50.552306Z"
    }
   },
   "cell_type": "code",
   "source": [
    "import uuid\n",
    "\n",
    "class Node:\n",
    "    def __init__(self, token, parent=None, left=None, right=None):\n",
    "        self.token = token\n",
    "        self.left = left\n",
    "        self.right = right\n",
    "        self.parent = parent\n",
    "        self.uid = uuid.uuid4()\n",
    "\n",
    "    def set_left(self, left):\n",
    "        self.left = left\n",
    "\n",
    "    def set_right(self, right):\n",
    "        self.right = right\n",
    "\n",
    "    def set_parent(self, parent):\n",
    "        self.parent = parent\n",
    "\n",
    "    def get_parent(self):\n",
    "        return self.parent\n",
    "\n",
    "    def get_left(self):\n",
    "        return self.left\n",
    "\n",
    "    def get_right(self):\n",
    "        return self.right\n",
    "\n",
    "    def __repr__(self):\n",
    "        r_string = f'Node({self.token}'\n",
    "        if self.left:\n",
    "            r_string += f', {self.left}'\n",
    "        if self.right:\n",
    "            r_string += f', {self.right}'\n",
    "\n",
    "        r_string += ')'\n",
    "\n",
    "        return r_string"
   ],
   "id": "f7da846819fa8410",
   "outputs": [],
   "execution_count": 178
  },
  {
   "metadata": {
    "ExecuteTime": {
     "end_time": "2025-06-16T16:23:51.841749Z",
     "start_time": "2025-06-16T16:23:51.836039Z"
    }
   },
   "cell_type": "code",
   "source": [
    "def rpn_to_tree(rpn_tokens):\n",
    "    cursor = 0\n",
    "    node_stack = []\n",
    "\n",
    "    while cursor < len(rpn_tokens):\n",
    "        token = rpn_tokens[cursor]\n",
    "        cursor += 1\n",
    "\n",
    "        if token in OPERATORS:\n",
    "            next_node = Node(token, right=node_stack.pop(), left=node_stack.pop())\n",
    "\n",
    "            node_stack.append(next_node)\n",
    "        else:\n",
    "            node_stack.append(Node(token))\n",
    "    return node_stack[0]"
   ],
   "id": "27370681653c4c75",
   "outputs": [],
   "execution_count": 179
  },
  {
   "metadata": {
    "ExecuteTime": {
     "end_time": "2025-06-16T16:23:52.584649Z",
     "start_time": "2025-06-16T16:23:52.579311Z"
    }
   },
   "cell_type": "code",
   "source": [
    "tree = rpn_to_tree(rpn_tokens)\n",
    "tree"
   ],
   "id": "476b6d02600aa535",
   "outputs": [
    {
     "data": {
      "text/plain": [
       "Node(+, Node(*, Node(3), Node(5)), Node(+, Node(*, Node(4), Node(2)), Node(*, Node(4), Node(3))))"
      ]
     },
     "execution_count": 180,
     "metadata": {},
     "output_type": "execute_result"
    }
   ],
   "execution_count": 180
  },
  {
   "metadata": {
    "ExecuteTime": {
     "end_time": "2025-06-16T16:23:53.648165Z",
     "start_time": "2025-06-16T16:23:53.639908Z"
    }
   },
   "cell_type": "code",
   "source": [
    "import matplotlib.pyplot as plt\n",
    "import networkx as nx\n",
    "\n",
    "\n",
    "# Recursive function to add edges to the graph\n",
    "\n",
    "def add_edges(graph, node, label_dict):\n",
    "    if node.left:\n",
    "        graph.add_node(node.left.uid)\n",
    "        label_dict.update({node.left.uid: node.left.token})\n",
    "\n",
    "        graph.add_edge(node.uid, node.left.uid)\n",
    "\n",
    "        add_edges(graph, node.left, label_dict)\n",
    "\n",
    "    if node.right:\n",
    "        graph.add_node(node.right.uid)\n",
    "        label_dict.update({node.right.uid: node.right.token})\n",
    "\n",
    "        graph.add_edge(node.uid, node.right.uid)\n",
    "\n",
    "        add_edges(graph, node.right, label_dict)\n",
    "\n",
    "# Recursive function to place nodes\n",
    "\n",
    "def hierarchy_pos(G, root, width=1.0, vert_gap=0.2, vert_loc=0, xcenter=0.5, pos=None, parent=None):\n",
    "    if pos is None:\n",
    "        pos = {root: (xcenter, vert_loc)}\n",
    "    else:\n",
    "        pos[root] = (xcenter, vert_loc)\n",
    "    neighbors = list(G.neighbors(root))\n",
    "    if parent is not None and parent in neighbors:\n",
    "        neighbors.remove(parent)\n",
    "    if neighbors:\n",
    "        dx = width / len(neighbors)\n",
    "        nextx = xcenter - width / 2 - dx / 2\n",
    "        for neighbor in neighbors:\n",
    "            nextx += dx\n",
    "\n",
    "            pos = hierarchy_pos(G, neighbor, width=dx, vert_gap=vert_gap, vert_loc=vert_loc - vert_gap, xcenter=nextx, pos=pos, parent=root)\n",
    "    return pos"
   ],
   "id": "39a66ac9b7aa331a",
   "outputs": [],
   "execution_count": 181
  },
  {
   "metadata": {
    "ExecuteTime": {
     "end_time": "2025-06-16T16:23:54.472909Z",
     "start_time": "2025-06-16T16:23:54.385624Z"
    }
   },
   "cell_type": "code",
   "source": [
    "# Create graph and add edges\n",
    "G = nx.DiGraph()\n",
    "\n",
    "G.add_node(tree.uid)\n",
    "\n",
    "label_dict = {tree.uid: tree.token}\n",
    "add_edges(G, tree, label_dict)\n",
    "\n",
    "pos = hierarchy_pos(G, tree.uid)\n",
    "nx.draw(G, pos, labels=label_dict, arrows=False, node_size=200, node_color='lightblue', font_size=10)\n",
    "\n",
    "plt.title(\"Top-Down Binary Tree Visualization of Syntax Tree\")\n",
    "plt.show()\n"
   ],
   "id": "ddb88cb024cf5fb0",
   "outputs": [
    {
     "data": {
      "text/plain": [
       "<Figure size 640x480 with 1 Axes>"
      ],
      "image/png": "[encoded data removed]"
     },
     "metadata": {},
     "output_type": "display_data"
    }
   ],
   "execution_count": 182
  },
  {
   "metadata": {
    "ExecuteTime": {
     "end_time": "2025-06-16T14:59:17.063005Z",
     "start_time": "2025-06-16T14:59:17.057003Z"
    }
   },
   "cell_type": "code",
   "source": "",
   "id": "9498479f1af22e5b",
   "outputs": [],
   "execution_count": null
  },
  {
   "metadata": {},
   "cell_type": "code",
   "outputs": [],
   "execution_count": null,
   "source": "",
   "id": "99f4a4d99758152f"
  }
 ],
 "metadata": {
  "kernelspec": {
   "display_name": "Python 3",
   "language": "python",
   "name": "python3"
  },
  "language_info": {
   "codemirror_mode": {
    "name": "ipython",
    "version": 2
   },
   "file_extension": ".py",
   "mimetype": "text/x-python",
   "name": "python",
   "nbconvert_exporter": "python",
   "pygments_lexer": "ipython2",
   "version": "2.7.6"
  }
 },
 "nbformat": 4,
 "nbformat_minor": 5
}
