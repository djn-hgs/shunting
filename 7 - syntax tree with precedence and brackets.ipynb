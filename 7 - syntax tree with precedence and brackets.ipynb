{
 "cells": [
  {
   "cell_type": "code",
   "id": "1f955602ff2f9a7b",
   "metadata": {
    "ExecuteTime": {
     "end_time": "2025-06-16T22:53:23.932008Z",
     "start_time": "2025-06-16T22:53:23.929004Z"
    }
   },
   "source": [
    "import re\n",
    "\n",
    "token_pattern = re.compile(r'\\d+|[+\\-*/()\\[\\]]')"
   ],
   "outputs": [],
   "execution_count": 151
  },
  {
   "metadata": {
    "collapsed": true,
    "ExecuteTime": {
     "end_time": "2025-06-16T22:53:38.784984Z",
     "start_time": "2025-06-16T22:53:38.781105Z"
    }
   },
   "cell_type": "code",
   "source": [
    "expr = \"3 - ( [5 + 4 * 2] + 4 * 3)\"\n",
    "\n",
    "tokens = token_pattern.findall(expr)\n",
    "\n",
    "tokens"
   ],
   "id": "initial_id",
   "outputs": [
    {
     "data": {
      "text/plain": [
       "['3', '-', '(', '[', '5', '+', '4', '*', '2', ']', '+', '4', '*', '3', ')']"
      ]
     },
     "execution_count": 159,
     "metadata": {},
     "output_type": "execute_result"
    }
   ],
   "execution_count": 159
  },
  {
   "metadata": {
    "ExecuteTime": {
     "end_time": "2025-06-16T22:53:39.295401Z",
     "start_time": "2025-06-16T22:53:39.292383Z"
    }
   },
   "cell_type": "code",
   "source": [
    "OPERATORS = {\n",
    "    '+': 2,\n",
    "    '-': 2,\n",
    "    '*': 4,\n",
    "    '/': 4,\n",
    "    '^': 6,\n",
    "}"
   ],
   "id": "eaf0bad2045d65f0",
   "outputs": [],
   "execution_count": 160
  },
  {
   "metadata": {
    "ExecuteTime": {
     "end_time": "2025-06-16T22:53:39.833850Z",
     "start_time": "2025-06-16T22:53:39.831116Z"
    }
   },
   "cell_type": "code",
   "source": [
    "def precedence(token):\n",
    "    return OPERATORS[token]"
   ],
   "id": "f03ef3bba97d19ea",
   "outputs": [],
   "execution_count": 161
  },
  {
   "metadata": {
    "ExecuteTime": {
     "end_time": "2025-06-16T22:53:40.428461Z",
     "start_time": "2025-06-16T22:53:40.404966Z"
    }
   },
   "cell_type": "code",
   "source": [
    "LEFT_BRACKETS = ['(', '[']\n",
    "RIGHT_BRACKETS = {\n",
    "    ')': '(',\n",
    "    ']': '[',\n",
    "}"
   ],
   "id": "bf749a995c788291",
   "outputs": [],
   "execution_count": 162
  },
  {
   "metadata": {
    "ExecuteTime": {
     "end_time": "2025-06-16T22:53:40.951114Z",
     "start_time": "2025-06-16T22:53:40.948898Z"
    }
   },
   "cell_type": "code",
   "source": [
    "def match(left, right):\n",
    "    return RIGHT_BRACKETS[right] == left"
   ],
   "id": "e34195a92928cf19",
   "outputs": [],
   "execution_count": 163
  },
  {
   "metadata": {
    "ExecuteTime": {
     "end_time": "2025-06-16T22:53:41.607782Z",
     "start_time": "2025-06-16T22:53:41.602737Z"
    }
   },
   "cell_type": "code",
   "source": [
    "def convert_to_rpn(token_list):\n",
    "    cursor = 0\n",
    "\n",
    "    operator_stack = []\n",
    "    rpn_out = []\n",
    "\n",
    "    while cursor < len(token_list):\n",
    "        token = token_list[cursor]\n",
    "        cursor += 1\n",
    "\n",
    "        if token in OPERATORS:\n",
    "            shunting = True\n",
    "\n",
    "            while shunting:\n",
    "                if operator_stack == []:\n",
    "                    shunting = False\n",
    "                elif operator_stack[-1] in LEFT_BRACKETS:\n",
    "                    shunting = False\n",
    "                elif precedence(operator_stack[-1]) > precedence(token):\n",
    "                    rpn_out.append(operator_stack.pop(-1))\n",
    "                else:\n",
    "                    shunting = False\n",
    "\n",
    "            operator_stack.append(token)\n",
    "\n",
    "        elif token in LEFT_BRACKETS:\n",
    "            operator_stack.append(token)\n",
    "\n",
    "        elif token in RIGHT_BRACKETS:\n",
    "            shunting = True\n",
    "\n",
    "            while shunting:\n",
    "                if operator_stack == []:\n",
    "                    shunting = False\n",
    "                else:\n",
    "                    operator = operator_stack.pop()\n",
    "                    print(operator)\n",
    "\n",
    "                    if operator in LEFT_BRACKETS:\n",
    "                        if match(operator, token):\n",
    "                            shunting = False\n",
    "                        else:\n",
    "                            raise SyntaxError(f'Unmatched brackets: {operator}, {token}')\n",
    "                    else:\n",
    "                        rpn_out.append(operator)\n",
    "\n",
    "        else:\n",
    "            rpn_out.append(token)\n",
    "\n",
    "    while operator_stack:\n",
    "        rpn_out.append(operator_stack.pop())\n",
    "\n",
    "    return rpn_out"
   ],
   "id": "779e756f25bffad0",
   "outputs": [],
   "execution_count": 164
  },
  {
   "metadata": {
    "ExecuteTime": {
     "end_time": "2025-06-16T22:53:42.229424Z",
     "start_time": "2025-06-16T22:53:42.225993Z"
    }
   },
   "cell_type": "code",
   "source": [
    "rpn_tokens = convert_to_rpn(tokens)\n",
    "rpn_tokens"
   ],
   "id": "a2ff27b3f79721b9",
   "outputs": [
    {
     "name": "stdout",
     "output_type": "stream",
     "text": [
      "*\n",
      "+\n",
      "[\n",
      "*\n",
      "+\n",
      "(\n"
     ]
    },
    {
     "data": {
      "text/plain": [
       "['3', '5', '4', '2', '*', '+', '4', '3', '*', '+', '-']"
      ]
     },
     "execution_count": 165,
     "metadata": {},
     "output_type": "execute_result"
    }
   ],
   "execution_count": 165
  },
  {
   "metadata": {
    "ExecuteTime": {
     "end_time": "2025-06-16T22:53:42.901869Z",
     "start_time": "2025-06-16T22:53:42.897354Z"
    }
   },
   "cell_type": "code",
   "source": [
    "import uuid\n",
    "\n",
    "class Node:\n",
    "    def __init__(self, token, parent=None, left=None, right=None):\n",
    "        self.token = token\n",
    "        self.left = left\n",
    "        self.right = right\n",
    "        self.parent = parent\n",
    "        self.uid = uuid.uuid4()\n",
    "\n",
    "    def set_left(self, left):\n",
    "        self.left = left\n",
    "\n",
    "    def set_right(self, right):\n",
    "        self.right = right\n",
    "\n",
    "    def set_parent(self, parent):\n",
    "        self.parent = parent\n",
    "\n",
    "    def get_parent(self):\n",
    "        return self.parent\n",
    "\n",
    "    def get_left(self):\n",
    "        return self.left\n",
    "\n",
    "    def get_right(self):\n",
    "        return self.right\n",
    "\n",
    "    def __repr__(self):\n",
    "        r_string = f'Node({self.token}'\n",
    "        if self.left:\n",
    "            r_string += f', {self.left}'\n",
    "        if self.right:\n",
    "            r_string += f', {self.right}'\n",
    "\n",
    "        r_string += ')'\n",
    "\n",
    "        return r_string"
   ],
   "id": "f7da846819fa8410",
   "outputs": [],
   "execution_count": 166
  },
  {
   "metadata": {
    "ExecuteTime": {
     "end_time": "2025-06-16T22:53:43.562406Z",
     "start_time": "2025-06-16T22:53:43.559065Z"
    }
   },
   "cell_type": "code",
   "source": [
    "def rpn_to_tree(rpn_tokens):\n",
    "    cursor = 0\n",
    "    node_stack = []\n",
    "\n",
    "    while cursor < len(rpn_tokens):\n",
    "        token = rpn_tokens[cursor]\n",
    "        cursor += 1\n",
    "\n",
    "        if token in OPERATORS:\n",
    "            next_node = Node(token, right=node_stack.pop(), left=node_stack.pop())\n",
    "\n",
    "            node_stack.append(next_node)\n",
    "        else:\n",
    "            node_stack.append(Node(token))\n",
    "    return node_stack[0]"
   ],
   "id": "27370681653c4c75",
   "outputs": [],
   "execution_count": 167
  },
  {
   "metadata": {
    "ExecuteTime": {
     "end_time": "2025-06-16T22:53:44.182618Z",
     "start_time": "2025-06-16T22:53:44.178461Z"
    }
   },
   "cell_type": "code",
   "source": [
    "tree = rpn_to_tree(rpn_tokens)\n",
    "tree"
   ],
   "id": "476b6d02600aa535",
   "outputs": [
    {
     "data": {
      "text/plain": [
       "Node(-, Node(3), Node(+, Node(+, Node(5), Node(*, Node(4), Node(2))), Node(*, Node(4), Node(3))))"
      ]
     },
     "execution_count": 168,
     "metadata": {},
     "output_type": "execute_result"
    }
   ],
   "execution_count": 168
  },
  {
   "metadata": {
    "ExecuteTime": {
     "end_time": "2025-06-16T22:53:44.745872Z",
     "start_time": "2025-06-16T22:53:44.739818Z"
    }
   },
   "cell_type": "code",
   "source": [
    "import matplotlib.pyplot as plt\n",
    "import networkx as nx\n",
    "\n",
    "\n",
    "# Recursive function to add edges to the graph\n",
    "\n",
    "def add_edges(graph, node, label_dict):\n",
    "    if node.left:\n",
    "        graph.add_node(node.left.uid)\n",
    "        label_dict.update({node.left.uid: node.left.token})\n",
    "\n",
    "        graph.add_edge(node.uid, node.left.uid)\n",
    "\n",
    "        add_edges(graph, node.left, label_dict)\n",
    "\n",
    "    if node.right:\n",
    "        graph.add_node(node.right.uid)\n",
    "        label_dict.update({node.right.uid: node.right.token})\n",
    "\n",
    "        graph.add_edge(node.uid, node.right.uid)\n",
    "\n",
    "        add_edges(graph, node.right, label_dict)\n",
    "\n",
    "# Recursive function to place nodes\n",
    "\n",
    "def hierarchy_pos(G, root, width=1.0, vert_gap=0.2, vert_loc=0, xcenter=0.5, pos=None, parent=None):\n",
    "    if pos is None:\n",
    "        pos = {root: (xcenter, vert_loc)}\n",
    "    else:\n",
    "        pos[root] = (xcenter, vert_loc)\n",
    "    neighbors = list(G.neighbors(root))\n",
    "    if parent is not None and parent in neighbors:\n",
    "        neighbors.remove(parent)\n",
    "    if neighbors:\n",
    "        dx = width / len(neighbors)\n",
    "        nextx = xcenter - width / 2 - dx / 2\n",
    "        for neighbor in neighbors:\n",
    "            nextx += dx\n",
    "\n",
    "            pos = hierarchy_pos(G, neighbor, width=dx, vert_gap=vert_gap, vert_loc=vert_loc - vert_gap, xcenter=nextx, pos=pos, parent=root)\n",
    "    return pos"
   ],
   "id": "39a66ac9b7aa331a",
   "outputs": [],
   "execution_count": 169
  },
  {
   "metadata": {
    "ExecuteTime": {
     "end_time": "2025-06-16T22:53:45.419335Z",
     "start_time": "2025-06-16T22:53:45.365889Z"
    }
   },
   "cell_type": "code",
   "source": [
    "# Create graph and add edges\n",
    "G = nx.DiGraph()\n",
    "\n",
    "G.add_node(tree.uid)\n",
    "\n",
    "label_dict = {tree.uid: tree.token}\n",
    "add_edges(G, tree, label_dict)\n",
    "\n",
    "pos = hierarchy_pos(G, tree.uid)\n",
    "nx.draw(G, pos, labels=label_dict, arrows=False, node_size=300, node_color='lightblue', font_size=10)\n",
    "\n",
    "plt.title(f'{expr}')\n",
    "plt.show()\n"
   ],
   "id": "ddb88cb024cf5fb0",
   "outputs": [
    {
     "data": {
      "text/plain": [
       "<Figure size 640x480 with 1 Axes>"
      ],
      "image/png": "[encoded data removed]"
     },
     "metadata": {},
     "output_type": "display_data"
    }
   ],
   "execution_count": 170
  },
  {
   "metadata": {
    "ExecuteTime": {
     "end_time": "2025-06-16T22:52:21.076071Z",
     "start_time": "2025-06-16T22:52:21.074360Z"
    }
   },
   "cell_type": "code",
   "source": "",
   "id": "9498479f1af22e5b",
   "outputs": [],
   "execution_count": null
  },
  {
   "metadata": {
    "ExecuteTime": {
     "end_time": "2025-06-16T22:52:21.093310Z",
     "start_time": "2025-06-16T22:52:21.091895Z"
    }
   },
   "cell_type": "code",
   "source": "",
   "id": "99f4a4d99758152f",
   "outputs": [],
   "execution_count": null
  }
 ],
 "metadata": {
  "kernelspec": {
   "display_name": "Python 3",
   "language": "python",
   "name": "python3"
  },
  "language_info": {
   "codemirror_mode": {
    "name": "ipython",
    "version": 2
   },
   "file_extension": ".py",
   "mimetype": "text/x-python",
   "name": "python",
   "nbconvert_exporter": "python",
   "pygments_lexer": "ipython2",
   "version": "2.7.6"
  }
 },
 "nbformat": 4,
 "nbformat_minor": 5
}
