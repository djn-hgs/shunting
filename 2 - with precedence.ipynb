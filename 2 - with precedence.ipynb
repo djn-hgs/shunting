{
 "cells": [
  {
   "metadata": {
    "ExecuteTime": {
     "end_time": "2025-06-13T13:06:04.277412Z",
     "start_time": "2025-06-13T13:06:04.269318Z"
    }
   },
   "cell_type": "code",
   "source": [
    "OPERATORS = {\n",
    "    \"+\": {'precedence': 2},\n",
    "    \"-\": {'precedence': 2},\n",
    "    \"*\": {'precedence': 4},\n",
    "    \"/\": {'precedence': 4},\n",
    "}\n"
   ],
   "id": "aee65bfc00c7823d",
   "outputs": [],
   "execution_count": 34
  },
  {
   "metadata": {
    "ExecuteTime": {
     "end_time": "2025-06-13T13:06:04.317125Z",
     "start_time": "2025-06-13T13:06:04.311375Z"
    }
   },
   "cell_type": "code",
   "source": [
    "def precedence(operator):\n",
    "    return OPERATORS[operator]['precedence']"
   ],
   "id": "94cc43fd71c04311",
   "outputs": [],
   "execution_count": 35
  },
  {
   "metadata": {
    "ExecuteTime": {
     "end_time": "2025-06-13T13:06:04.349384Z",
     "start_time": "2025-06-13T13:06:04.344291Z"
    }
   },
   "cell_type": "code",
   "source": "DIGITS = \"_0123456789\"",
   "id": "f6387932f2802ee7",
   "outputs": [],
   "execution_count": 36
  },
  {
   "cell_type": "code",
   "id": "initial_id",
   "metadata": {
    "collapsed": true,
    "ExecuteTime": {
     "end_time": "2025-06-13T13:06:04.369329Z",
     "start_time": "2025-06-13T13:06:04.364685Z"
    }
   },
   "source": "to_parse = \"8+5+3+13-5*2+12/4\"",
   "outputs": [],
   "execution_count": 37
  },
  {
   "metadata": {
    "ExecuteTime": {
     "end_time": "2025-06-13T13:06:04.390632Z",
     "start_time": "2025-06-13T13:06:04.384786Z"
    }
   },
   "cell_type": "code",
   "source": "cursor = 0",
   "id": "fe19dc5cc064f441",
   "outputs": [],
   "execution_count": 38
  },
  {
   "metadata": {
    "ExecuteTime": {
     "end_time": "2025-06-13T13:06:04.417733Z",
     "start_time": "2025-06-13T13:06:04.409648Z"
    }
   },
   "cell_type": "code",
   "source": [
    "def get_next():\n",
    "    global cursor\n",
    "\n",
    "    term_return = None\n",
    "\n",
    "    if to_parse[cursor] in OPERATORS:\n",
    "        term_return = to_parse[cursor]\n",
    "        cursor += 1\n",
    "\n",
    "    elif to_parse[cursor] in DIGITS:\n",
    "        term_return = ''\n",
    "\n",
    "        while cursor < len(to_parse) and to_parse[cursor] in DIGITS:\n",
    "            term_return += to_parse[cursor]\n",
    "            cursor += 1\n",
    "\n",
    "    else:\n",
    "        raise Exception(\"Parsing failed\")\n",
    "\n",
    "    return term_return"
   ],
   "id": "e1f3c5ec8cb62e99",
   "outputs": [],
   "execution_count": 39
  },
  {
   "metadata": {
    "ExecuteTime": {
     "end_time": "2025-06-13T13:06:04.439567Z",
     "start_time": "2025-06-13T13:06:04.433297Z"
    }
   },
   "cell_type": "code",
   "source": "tokens = []\n",
   "id": "f1d78aa792f64d6",
   "outputs": [],
   "execution_count": 40
  },
  {
   "metadata": {
    "ExecuteTime": {
     "end_time": "2025-06-13T13:06:04.463765Z",
     "start_time": "2025-06-13T13:06:04.457812Z"
    }
   },
   "cell_type": "code",
   "source": [
    "while cursor < len(to_parse):\n",
    "    tokens.append(get_next())\n",
    "    print(tokens)"
   ],
   "id": "4433deb4ba68b970",
   "outputs": [
    {
     "name": "stdout",
     "output_type": "stream",
     "text": [
      "['8']\n",
      "['8', '+']\n",
      "['8', '+', '5']\n",
      "['8', '+', '5', '+']\n",
      "['8', '+', '5', '+', '3']\n",
      "['8', '+', '5', '+', '3', '+']\n",
      "['8', '+', '5', '+', '3', '+', '13']\n",
      "['8', '+', '5', '+', '3', '+', '13', '-']\n",
      "['8', '+', '5', '+', '3', '+', '13', '-', '5']\n",
      "['8', '+', '5', '+', '3', '+', '13', '-', '5', '*']\n",
      "['8', '+', '5', '+', '3', '+', '13', '-', '5', '*', '2']\n",
      "['8', '+', '5', '+', '3', '+', '13', '-', '5', '*', '2', '+']\n",
      "['8', '+', '5', '+', '3', '+', '13', '-', '5', '*', '2', '+', '12']\n",
      "['8', '+', '5', '+', '3', '+', '13', '-', '5', '*', '2', '+', '12', '/']\n",
      "['8', '+', '5', '+', '3', '+', '13', '-', '5', '*', '2', '+', '12', '/', '4']\n"
     ]
    }
   ],
   "execution_count": 41
  },
  {
   "metadata": {
    "ExecuteTime": {
     "end_time": "2025-06-13T13:06:04.507141Z",
     "start_time": "2025-06-13T13:06:04.501430Z"
    }
   },
   "cell_type": "code",
   "source": [
    "rpn_output = [tokens.pop(0)]\n",
    "operator_stack = []"
   ],
   "id": "c3941439bea54ce",
   "outputs": [],
   "execution_count": 42
  },
  {
   "metadata": {
    "ExecuteTime": {
     "end_time": "2025-06-13T13:06:04.543917Z",
     "start_time": "2025-06-13T13:06:04.534288Z"
    }
   },
   "cell_type": "code",
   "source": [
    "while tokens:\n",
    "    current_token = tokens.pop(0)\n",
    "\n",
    "    if current_token in OPERATORS:\n",
    "        shunting = True\n",
    "\n",
    "        while shunting:\n",
    "            if operator_stack == []:\n",
    "                shunting = False\n",
    "            elif precedence(operator_stack[-1]) >= precedence(current_token):\n",
    "                rpn_output.append(operator_stack.pop())\n",
    "            else:\n",
    "                shunting = False\n",
    "\n",
    "        operator_stack.append(current_token)\n",
    "\n",
    "    else:\n",
    "        rpn_output.append(current_token)\n",
    "\n",
    "    print(f'Output: {rpn_output}')\n",
    "    print(f'Operator stack: {operator_stack}')\n",
    "\n",
    "while operator_stack:\n",
    "    rpn_output.append(operator_stack.pop())\n",
    "\n",
    "\n"
   ],
   "id": "4b075cb5a33fe2de",
   "outputs": [
    {
     "name": "stdout",
     "output_type": "stream",
     "text": [
      "Output: ['8']\n",
      "Operator stack: ['+']\n",
      "Output: ['8', '5']\n",
      "Operator stack: ['+']\n",
      "Output: ['8', '5', '+']\n",
      "Operator stack: ['+']\n",
      "Output: ['8', '5', '+', '3']\n",
      "Operator stack: ['+']\n",
      "Output: ['8', '5', '+', '3', '+']\n",
      "Operator stack: ['+']\n",
      "Output: ['8', '5', '+', '3', '+', '13']\n",
      "Operator stack: ['+']\n",
      "Output: ['8', '5', '+', '3', '+', '13', '+']\n",
      "Operator stack: ['-']\n",
      "Output: ['8', '5', '+', '3', '+', '13', '+', '5']\n",
      "Operator stack: ['-']\n",
      "Output: ['8', '5', '+', '3', '+', '13', '+', '5']\n",
      "Operator stack: ['-', '*']\n",
      "Output: ['8', '5', '+', '3', '+', '13', '+', '5', '2']\n",
      "Operator stack: ['-', '*']\n",
      "Output: ['8', '5', '+', '3', '+', '13', '+', '5', '2', '*', '-']\n",
      "Operator stack: ['+']\n",
      "Output: ['8', '5', '+', '3', '+', '13', '+', '5', '2', '*', '-', '12']\n",
      "Operator stack: ['+']\n",
      "Output: ['8', '5', '+', '3', '+', '13', '+', '5', '2', '*', '-', '12']\n",
      "Operator stack: ['+', '/']\n",
      "Output: ['8', '5', '+', '3', '+', '13', '+', '5', '2', '*', '-', '12', '4']\n",
      "Operator stack: ['+', '/']\n"
     ]
    }
   ],
   "execution_count": 43
  },
  {
   "metadata": {
    "ExecuteTime": {
     "end_time": "2025-06-13T13:06:04.596001Z",
     "start_time": "2025-06-13T13:06:04.584584Z"
    }
   },
   "cell_type": "code",
   "source": "rpn_output\n",
   "id": "5f26c5e3118de27f",
   "outputs": [
    {
     "data": {
      "text/plain": [
       "['8', '5', '+', '3', '+', '13', '+', '5', '2', '*', '-', '12', '4', '/', '+']"
      ]
     },
     "execution_count": 44,
     "metadata": {},
     "output_type": "execute_result"
    }
   ],
   "execution_count": 44
  },
  {
   "metadata": {
    "ExecuteTime": {
     "end_time": "2025-06-13T13:06:04.658254Z",
     "start_time": "2025-06-13T13:06:04.652376Z"
    }
   },
   "cell_type": "code",
   "source": "",
   "id": "c3038a8d8ddb8daa",
   "outputs": [],
   "execution_count": null
  }
 ],
 "metadata": {
  "kernelspec": {
   "display_name": "Python 3",
   "language": "python",
   "name": "python3"
  },
  "language_info": {
   "codemirror_mode": {
    "name": "ipython",
    "version": 2
   },
   "file_extension": ".py",
   "mimetype": "text/x-python",
   "name": "python",
   "nbconvert_exporter": "python",
   "pygments_lexer": "ipython2",
   "version": "2.7.6"
  }
 },
 "nbformat": 4,
 "nbformat_minor": 5
}
