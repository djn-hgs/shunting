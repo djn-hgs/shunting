{
 "cells": [
  {
   "metadata": {
    "ExecuteTime": {
     "end_time": "2025-06-13T13:06:43.900226Z",
     "start_time": "2025-06-13T13:06:43.892177Z"
    }
   },
   "cell_type": "code",
   "source": [
    "OPERATORS = {\n",
    "    \"+\": {'precedence': 2, 'left': True},\n",
    "    \"-\": {'precedence': 2, 'left': True},\n",
    "    \"*\": {'precedence': 4, 'left': True},\n",
    "    \"/\": {'precedence': 4, 'left': True},\n",
    "    \"^\": {'precedence': 6, 'right': True},\n",
    "}\n"
   ],
   "id": "aee65bfc00c7823d",
   "outputs": [],
   "execution_count": 13
  },
  {
   "metadata": {
    "ExecuteTime": {
     "end_time": "2025-06-13T13:06:43.944531Z",
     "start_time": "2025-06-13T13:06:43.938212Z"
    }
   },
   "cell_type": "code",
   "source": [
    "def precedence(operator):\n",
    "    return OPERATORS[operator]['precedence']"
   ],
   "id": "94cc43fd71c04311",
   "outputs": [],
   "execution_count": 14
  },
  {
   "metadata": {
    "ExecuteTime": {
     "end_time": "2025-06-13T13:06:43.966508Z",
     "start_time": "2025-06-13T13:06:43.958833Z"
    }
   },
   "cell_type": "code",
   "source": [
    "def left_associative(operator):\n",
    "    if 'left' in OPERATORS[operator]:\n",
    "        return OPERATORS[operator]['left']\n",
    "    else:\n",
    "        return False\n",
    "\n",
    "def right_associative(operator):\n",
    "    if 'right' in OPERATORS[operator]:\n",
    "        return OPERATORS[operator]['right']\n",
    "    else:\n",
    "        return False"
   ],
   "id": "30c6060a435f3aa6",
   "outputs": [],
   "execution_count": 15
  },
  {
   "metadata": {
    "ExecuteTime": {
     "end_time": "2025-06-13T13:06:43.987939Z",
     "start_time": "2025-06-13T13:06:43.982116Z"
    }
   },
   "cell_type": "code",
   "source": [
    "\n",
    "DIGITS = \"_0123456789\""
   ],
   "id": "f6387932f2802ee7",
   "outputs": [],
   "execution_count": 16
  },
  {
   "cell_type": "code",
   "id": "initial_id",
   "metadata": {
    "collapsed": true,
    "ExecuteTime": {
     "end_time": "2025-06-13T13:06:44.008204Z",
     "start_time": "2025-06-13T13:06:44.003419Z"
    }
   },
   "source": "to_parse = \"8^5^3+13-5*2+12/4\"",
   "outputs": [],
   "execution_count": 17
  },
  {
   "metadata": {
    "ExecuteTime": {
     "end_time": "2025-06-13T13:06:44.040452Z",
     "start_time": "2025-06-13T13:06:44.034582Z"
    }
   },
   "cell_type": "code",
   "source": "cursor = 0",
   "id": "fe19dc5cc064f441",
   "outputs": [],
   "execution_count": 18
  },
  {
   "metadata": {
    "ExecuteTime": {
     "end_time": "2025-06-13T13:06:44.056483Z",
     "start_time": "2025-06-13T13:06:44.049846Z"
    }
   },
   "cell_type": "code",
   "source": [
    "def get_next():\n",
    "    global cursor\n",
    "\n",
    "    term_return = None\n",
    "\n",
    "    if to_parse[cursor] in OPERATORS:\n",
    "        term_return = to_parse[cursor]\n",
    "        cursor += 1\n",
    "\n",
    "    elif to_parse[cursor] in DIGITS:\n",
    "        term_return = ''\n",
    "\n",
    "        while cursor < len(to_parse) and to_parse[cursor] in DIGITS:\n",
    "            term_return += to_parse[cursor]\n",
    "            cursor += 1\n",
    "\n",
    "    else:\n",
    "        raise Exception(\"Parsing failed\")\n",
    "\n",
    "    return term_return"
   ],
   "id": "e1f3c5ec8cb62e99",
   "outputs": [],
   "execution_count": 19
  },
  {
   "metadata": {
    "ExecuteTime": {
     "end_time": "2025-06-13T13:06:44.074624Z",
     "start_time": "2025-06-13T13:06:44.069256Z"
    }
   },
   "cell_type": "code",
   "source": "tokens = []\n",
   "id": "f1d78aa792f64d6",
   "outputs": [],
   "execution_count": 20
  },
  {
   "metadata": {
    "ExecuteTime": {
     "end_time": "2025-06-13T13:06:44.100523Z",
     "start_time": "2025-06-13T13:06:44.092597Z"
    }
   },
   "cell_type": "code",
   "source": [
    "while cursor < len(to_parse):\n",
    "    tokens.append(get_next())\n",
    "    print(tokens)"
   ],
   "id": "4433deb4ba68b970",
   "outputs": [
    {
     "name": "stdout",
     "output_type": "stream",
     "text": [
      "['8']\n",
      "['8', '^']\n",
      "['8', '^', '5']\n",
      "['8', '^', '5', '^']\n",
      "['8', '^', '5', '^', '3']\n",
      "['8', '^', '5', '^', '3', '+']\n",
      "['8', '^', '5', '^', '3', '+', '13']\n",
      "['8', '^', '5', '^', '3', '+', '13', '-']\n",
      "['8', '^', '5', '^', '3', '+', '13', '-', '5']\n",
      "['8', '^', '5', '^', '3', '+', '13', '-', '5', '*']\n",
      "['8', '^', '5', '^', '3', '+', '13', '-', '5', '*', '2']\n",
      "['8', '^', '5', '^', '3', '+', '13', '-', '5', '*', '2', '+']\n",
      "['8', '^', '5', '^', '3', '+', '13', '-', '5', '*', '2', '+', '12']\n",
      "['8', '^', '5', '^', '3', '+', '13', '-', '5', '*', '2', '+', '12', '/']\n",
      "['8', '^', '5', '^', '3', '+', '13', '-', '5', '*', '2', '+', '12', '/', '4']\n"
     ]
    }
   ],
   "execution_count": 21
  },
  {
   "metadata": {
    "ExecuteTime": {
     "end_time": "2025-06-13T13:06:44.145014Z",
     "start_time": "2025-06-13T13:06:44.137782Z"
    }
   },
   "cell_type": "code",
   "source": [
    "rpn_output = [tokens.pop(0)]\n",
    "operator_stack = []"
   ],
   "id": "c3941439bea54ce",
   "outputs": [],
   "execution_count": 22
  },
  {
   "metadata": {
    "ExecuteTime": {
     "end_time": "2025-06-13T13:06:44.182205Z",
     "start_time": "2025-06-13T13:06:44.171016Z"
    }
   },
   "cell_type": "code",
   "source": [
    "while tokens:\n",
    "    current_token = tokens.pop(0)\n",
    "\n",
    "    if current_token in OPERATORS:\n",
    "        shunting = True\n",
    "\n",
    "        while shunting:\n",
    "            if operator_stack == []:\n",
    "                shunting = False\n",
    "            elif operator_stack[-1] == current_token and right_associative(current_token):\n",
    "                shunting = False\n",
    "            elif precedence(operator_stack[-1]) >= precedence(current_token):\n",
    "                rpn_output.append(operator_stack.pop())\n",
    "            else:\n",
    "                shunting = False\n",
    "\n",
    "        operator_stack.append(current_token)\n",
    "\n",
    "    else:\n",
    "        rpn_output.append(current_token)\n",
    "\n",
    "    print(f'Output: {rpn_output}')\n",
    "    print(f'Operator stack: {operator_stack}')\n",
    "\n",
    "while operator_stack:\n",
    "    rpn_output.append(operator_stack.pop())\n",
    "\n",
    "\n"
   ],
   "id": "4b075cb5a33fe2de",
   "outputs": [
    {
     "name": "stdout",
     "output_type": "stream",
     "text": [
      "Output: ['8']\n",
      "Operator stack: ['^']\n",
      "Output: ['8', '5']\n",
      "Operator stack: ['^']\n",
      "Output: ['8', '5']\n",
      "Operator stack: ['^', '^']\n",
      "Output: ['8', '5', '3']\n",
      "Operator stack: ['^', '^']\n",
      "Output: ['8', '5', '3', '^', '^']\n",
      "Operator stack: ['+']\n",
      "Output: ['8', '5', '3', '^', '^', '13']\n",
      "Operator stack: ['+']\n",
      "Output: ['8', '5', '3', '^', '^', '13', '+']\n",
      "Operator stack: ['-']\n",
      "Output: ['8', '5', '3', '^', '^', '13', '+', '5']\n",
      "Operator stack: ['-']\n",
      "Output: ['8', '5', '3', '^', '^', '13', '+', '5']\n",
      "Operator stack: ['-', '*']\n",
      "Output: ['8', '5', '3', '^', '^', '13', '+', '5', '2']\n",
      "Operator stack: ['-', '*']\n",
      "Output: ['8', '5', '3', '^', '^', '13', '+', '5', '2', '*', '-']\n",
      "Operator stack: ['+']\n",
      "Output: ['8', '5', '3', '^', '^', '13', '+', '5', '2', '*', '-', '12']\n",
      "Operator stack: ['+']\n",
      "Output: ['8', '5', '3', '^', '^', '13', '+', '5', '2', '*', '-', '12']\n",
      "Operator stack: ['+', '/']\n",
      "Output: ['8', '5', '3', '^', '^', '13', '+', '5', '2', '*', '-', '12', '4']\n",
      "Operator stack: ['+', '/']\n"
     ]
    }
   ],
   "execution_count": 23
  },
  {
   "metadata": {
    "ExecuteTime": {
     "end_time": "2025-06-13T13:06:44.275505Z",
     "start_time": "2025-06-13T13:06:44.265075Z"
    }
   },
   "cell_type": "code",
   "source": "rpn_output\n",
   "id": "5f26c5e3118de27f",
   "outputs": [
    {
     "data": {
      "text/plain": [
       "['8', '5', '3', '^', '^', '13', '+', '5', '2', '*', '-', '12', '4', '/', '+']"
      ]
     },
     "execution_count": 24,
     "metadata": {},
     "output_type": "execute_result"
    }
   ],
   "execution_count": 24
  },
  {
   "metadata": {
    "ExecuteTime": {
     "end_time": "2025-06-13T13:06:44.331613Z",
     "start_time": "2025-06-13T13:06:44.327034Z"
    }
   },
   "cell_type": "code",
   "source": "",
   "id": "c3038a8d8ddb8daa",
   "outputs": [],
   "execution_count": null
  }
 ],
 "metadata": {
  "kernelspec": {
   "display_name": "Python 3",
   "language": "python",
   "name": "python3"
  },
  "language_info": {
   "codemirror_mode": {
    "name": "ipython",
    "version": 2
   },
   "file_extension": ".py",
   "mimetype": "text/x-python",
   "name": "python",
   "nbconvert_exporter": "python",
   "pygments_lexer": "ipython2",
   "version": "2.7.6"
  }
 },
 "nbformat": 4,
 "nbformat_minor": 5
}
