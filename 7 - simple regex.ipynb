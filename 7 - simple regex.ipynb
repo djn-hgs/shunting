{
 "cells": [
  {
   "cell_type": "code",
   "id": "initial_id",
   "metadata": {
    "collapsed": true,
    "ExecuteTime": {
     "end_time": "2025-06-16T09:11:57.487860Z",
     "start_time": "2025-06-16T09:11:57.481944Z"
    }
   },
   "source": [
    "\n",
    "import re\n",
    "\n",
    "def tokenize(expression):\n",
    "    # Define the token pattern: numbers, operators, and parentheses\n",
    "    token_pattern = r'\\-?\\d+\\.?\\d*|[+\\-*/^()]'\n",
    "    tokens = re.findall(token_pattern, expression)\n",
    "    return tokens\n",
    "\n",
    "# Example usage\n",
    "expr = \"3 + 4 * (-2 - 1) / 5\"\n",
    "tokens = tokenize(expr)\n",
    "print(tokens)\n"
   ],
   "outputs": [
    {
     "name": "stdout",
     "output_type": "stream",
     "text": [
      "['3', '+', '4', '*', '(', '-2', '-', '1', ')', '/', '5']\n"
     ]
    }
   ],
   "execution_count": 4
  }
 ],
 "metadata": {
  "kernelspec": {
   "display_name": "Python 3",
   "language": "python",
   "name": "python3"
  },
  "language_info": {
   "codemirror_mode": {
    "name": "ipython",
    "version": 2
   },
   "file_extension": ".py",
   "mimetype": "text/x-python",
   "name": "python",
   "nbconvert_exporter": "python",
   "pygments_lexer": "ipython2",
   "version": "2.7.6"
  }
 },
 "nbformat": 4,
 "nbformat_minor": 5
}
