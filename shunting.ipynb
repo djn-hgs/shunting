{
 "cells": [
  {
   "metadata": {
    "ExecuteTime": {
     "end_time": "2025-06-12T22:21:30.779749Z",
     "start_time": "2025-06-12T22:21:30.776140Z"
    }
   },
   "cell_type": "code",
   "source": [
    "import re\n",
    "from modulefinder import replacePackageMap\n",
    "\n",
    "\n",
    "class Token:\n",
    "    def __init__(self, name, regex):\n",
    "        self.name = name\n",
    "        self.regex = re.compile(regex)\n",
    "\n",
    "    def matches(self, text):\n",
    "        return self.regex.match(text) is not None\n",
    "\n",
    "    def __repr__(self):\n",
    "        return str(self.name)\n",
    "\n",
    "    def __str__(self):\n",
    "        return str(self.name)"
   ],
   "id": "e132fd08b4a39f90",
   "outputs": [],
   "execution_count": 48
  },
  {
   "metadata": {
    "collapsed": true,
    "ExecuteTime": {
     "end_time": "2025-06-12T22:21:30.799982Z",
     "start_time": "2025-06-12T22:21:30.796893Z"
    }
   },
   "cell_type": "code",
   "source": [
    "\n",
    "class BinaryOperator(Token):\n",
    "    def __init__(self, name, regex, precedence, fn=None):\n",
    "        super().__init__(name, regex)\n",
    "        self.precedence = precedence\n",
    "        self.fn = fn\n",
    "\n",
    "    def __repr__(self):\n",
    "        return f'<{self.name}, precedence={self.precedence}>'\n",
    "\n",
    "    def __gt__(self, other):\n",
    "        return self.precedence > other.precedence\n",
    "\n",
    "    def __lt__(self, other):\n",
    "        return self.precedence < other.precedence\n",
    "\n",
    "    def __eq__(self, other):\n",
    "        return self.precedence == other.precedence"
   ],
   "id": "initial_id",
   "outputs": [],
   "execution_count": 49
  },
  {
   "metadata": {
    "ExecuteTime": {
     "end_time": "2025-06-12T22:21:30.811709Z",
     "start_time": "2025-06-12T22:21:30.809081Z"
    }
   },
   "cell_type": "code",
   "source": [
    "plus = BinaryOperator('+', r'\\+', 1, lambda a, b: a + b)\n",
    "minus = BinaryOperator('-', r'\\-', 1, lambda a, b: a - b)\n",
    "times = BinaryOperator('*', r'\\*', 2, lambda a, b: a * b)\n",
    "divide = BinaryOperator('/', r'\\/', 2, lambda a, b: a / b)\n",
    "operators = [\n",
    "    plus,\n",
    "    minus,\n",
    "    times,\n",
    "    divide,\n",
    "]"
   ],
   "id": "3d7c0918093496a7",
   "outputs": [],
   "execution_count": 50
  },
  {
   "metadata": {
    "ExecuteTime": {
     "end_time": "2025-06-12T22:21:30.822806Z",
     "start_time": "2025-06-12T22:21:30.819794Z"
    }
   },
   "cell_type": "code",
   "source": [
    "class Bracket(Token):\n",
    "    def __init__(self, name, regex, pair=None):\n",
    "        super().__init__(name, regex)\n",
    "        self.pair = pair\n",
    "\n",
    "    def __repr__(self):\n",
    "        return f'<bracket {self.name}, matches {self.pair}>'\n",
    "\n",
    "    def set_pair(self, other):\n",
    "        self.pair = other\n",
    "\n",
    "    def pairs_with(self, other):\n",
    "        return self.pair == other\n",
    "\n",
    "\n",
    "class LeftBracket(Bracket):\n",
    "    def __init__(self, name, regex, pair=None):\n",
    "        super().__init__(name, regex, pair)\n",
    "\n",
    "    def __repr__(self):\n",
    "        return f'<left bracket {self.name}, matches {self.pair}>'\n",
    "\n",
    "class RightBracket(Bracket):\n",
    "    def __init__(self, name, regex, pair=None):\n",
    "        super().__init__(name, regex, pair)\n",
    "\n",
    "    def __repr__(self):\n",
    "        return f'<right bracket {self.name}, matches {self.pair}>'\n"
   ],
   "id": "5d880b9b7f9ed8c0",
   "outputs": [],
   "execution_count": 51
  },
  {
   "metadata": {
    "ExecuteTime": {
     "end_time": "2025-06-12T22:21:30.832957Z",
     "start_time": "2025-06-12T22:21:30.830668Z"
    }
   },
   "cell_type": "code",
   "source": [
    "bracket_left = LeftBracket('(', r'\\(')\n",
    "bracket_right = RightBracket(')', r'\\)', pair=bracket_left)\n",
    "\n",
    "bracket_left.set_pair(bracket_right)"
   ],
   "id": "42578c948d365007",
   "outputs": [],
   "execution_count": 52
  },
  {
   "metadata": {
    "ExecuteTime": {
     "end_time": "2025-06-12T22:21:30.841636Z",
     "start_time": "2025-06-12T22:21:30.839760Z"
    }
   },
   "cell_type": "code",
   "source": [
    "brackets = [\n",
    "    bracket_left,\n",
    "    bracket_right,\n",
    "]"
   ],
   "id": "5bfdf811e048612e",
   "outputs": [],
   "execution_count": 53
  },
  {
   "metadata": {},
   "cell_type": "code",
   "source": [
    "class Operand(Token):\n",
    "    def __init__(self, name, regex, value=None):\n",
    "        super().__init__(name, regex)\n",
    "        self.value = value\n",
    "\n",
    "    def __str__(self):\n",
    "        return f'{self.value}'\n",
    "\n",
    "    def __repr__(self):\n",
    "        return f'<{self.name}, value={self.value}>'\n"
   ],
   "id": "3813ab5ee47db501",
   "execution_count": null,
   "outputs": []
  },
  {
   "metadata": {
    "ExecuteTime": {
     "end_time": "2025-06-12T22:26:57.047457Z",
     "start_time": "2025-06-12T22:26:57.044152Z"
    }
   },
   "cell_type": "code",
   "source": [
    "class Number(Operand):\n",
    "    regex = re.compile(r'\\d+')\n",
    "    name = 'number'\n",
    "    def __init__(self, value):\n",
    "        super().__init__(name=self.name, regex=self.regex, value=int(value))"
   ],
   "id": "1962e27a78dcea70",
   "outputs": [],
   "execution_count": 85
  },
  {
   "metadata": {
    "ExecuteTime": {
     "end_time": "2025-06-12T22:26:57.413039Z",
     "start_time": "2025-06-12T22:26:57.410516Z"
    }
   },
   "cell_type": "code",
   "source": [
    "class InFix(list):\n",
    "    def __str__(self):\n",
    "        return ' '.join(map(str, self))"
   ],
   "id": "11a82c1380c81639",
   "outputs": [],
   "execution_count": 86
  },
  {
   "metadata": {
    "ExecuteTime": {
     "end_time": "2025-06-12T22:26:57.774407Z",
     "start_time": "2025-06-12T22:26:57.771589Z"
    }
   },
   "cell_type": "code",
   "source": [
    "infix_tokens = InFix([\n",
    "    bracket_left,\n",
    "    bracket_left,\n",
    "    Number(12),\n",
    "    plus,\n",
    "    Number(10),\n",
    "    bracket_right,\n",
    "    times,\n",
    "    Number(3),\n",
    "    bracket_right,\n",
    "    divide,\n",
    "    bracket_left,\n",
    "    Number(13),\n",
    "    minus,\n",
    "    Number(2),\n",
    "    bracket_right,\n",
    "    ]\n",
    ")"
   ],
   "id": "5a03e28b7d55e311",
   "outputs": [],
   "execution_count": 87
  },
  {
   "metadata": {
    "ExecuteTime": {
     "end_time": "2025-06-12T22:26:57.951323Z",
     "start_time": "2025-06-12T22:26:57.947624Z"
    }
   },
   "cell_type": "code",
   "source": "infix_tokens",
   "id": "8edf5c216f229098",
   "outputs": [
    {
     "data": {
      "text/plain": [
       "[<left bracket (, matches )>,\n",
       " <left bracket (, matches )>,\n",
       " <number, value=12>,\n",
       " <+, precedence=1>,\n",
       " <number, value=10>,\n",
       " <right bracket ), matches (>,\n",
       " <*, precedence=2>,\n",
       " <number, value=3>,\n",
       " <right bracket ), matches (>,\n",
       " </, precedence=2>,\n",
       " <left bracket (, matches )>,\n",
       " <number, value=13>,\n",
       " <-, precedence=1>,\n",
       " <number, value=2>,\n",
       " <right bracket ), matches (>]"
      ]
     },
     "execution_count": 88,
     "metadata": {},
     "output_type": "execute_result"
    }
   ],
   "execution_count": 88
  },
  {
   "metadata": {
    "ExecuteTime": {
     "end_time": "2025-06-12T22:26:58.109055Z",
     "start_time": "2025-06-12T22:26:58.106414Z"
    }
   },
   "cell_type": "code",
   "source": "print(infix_tokens)",
   "id": "835cd4cd537b41e5",
   "outputs": [
    {
     "name": "stdout",
     "output_type": "stream",
     "text": [
      "( ( 12 + 10 ) * 3 ) / ( 13 - 2 )\n"
     ]
    }
   ],
   "execution_count": 89
  },
  {
   "metadata": {
    "ExecuteTime": {
     "end_time": "2025-06-12T22:26:58.317370Z",
     "start_time": "2025-06-12T22:26:58.313987Z"
    }
   },
   "cell_type": "code",
   "source": [
    "class RPN(list):\n",
    "    def __str__(self):\n",
    "        return ' '.join(map(str, self))\n",
    "\n",
    "    def eval(self, log=False):\n",
    "        rpn_stack = []\n",
    "\n",
    "        for t in self:\n",
    "            if isinstance(t, BinaryOperator):\n",
    "                b = rpn_stack.pop()\n",
    "                a = rpn_stack.pop()\n",
    "                c = t.fn(a.value, b.value)\n",
    "                rpn_stack.append(Number(c))\n",
    "            else:\n",
    "                rpn_stack.append(t)\n",
    "\n",
    "            if log:\n",
    "                print(f'Processed {t} giving {rpn_stack}')\n",
    "        return rpn_stack.pop()\n"
   ],
   "id": "c518759f1f29a019",
   "outputs": [],
   "execution_count": 90
  },
  {
   "metadata": {
    "ExecuteTime": {
     "end_time": "2025-06-12T22:26:58.501861Z",
     "start_time": "2025-06-12T22:26:58.498200Z"
    }
   },
   "cell_type": "code",
   "source": [
    "def infix_to_rpn(infix_tokens, log=False):\n",
    "    siding_stack = []\n",
    "    rpn_output = RPN()\n",
    "\n",
    "    # Work through the infix tokens\n",
    "\n",
    "    for token in infix_tokens:\n",
    "\n",
    "        # Numbers go straight to our RPN output\n",
    "\n",
    "        if isinstance(token, Number):\n",
    "            rpn_output.append(token)\n",
    "\n",
    "        # Left brackets go straight onto the siding\n",
    "\n",
    "        elif isinstance(token, LeftBracket):\n",
    "            siding_stack.append(token)\n",
    "\n",
    "        # Right brackets mean that the calculation thus far is higher\n",
    "        # precedence than whatever follows, and so we push operators\n",
    "        # to the output until we reach a left bracket\n",
    "\n",
    "        elif isinstance(token, RightBracket):\n",
    "\n",
    "            popping_operators = True\n",
    "\n",
    "            while popping_operators:\n",
    "                next_token = siding_stack.pop()\n",
    "                if isinstance(next_token, BinaryOperator):\n",
    "                    rpn_output.append(next_token)\n",
    "                elif isinstance(next_token, LeftBracket):\n",
    "                    popping_operators = False\n",
    "\n",
    "        elif isinstance(token, BinaryOperator):\n",
    "            # If we have an operator then we need to look to see what's on the\n",
    "            # siding stack. We start by checking that it isn't empty.\n",
    "\n",
    "            if siding_stack:\n",
    "                # If there's a bracket then... no precedence will do...\n",
    "                # Nothing to see here, move on\n",
    "\n",
    "                if isinstance(siding_stack[-1], LeftBracket):\n",
    "                    pass\n",
    "\n",
    "                # Otherwise we pop all operators with higher precedence\n",
    "                # There may be no popping at all, notice\n",
    "                elif isinstance(siding_stack[-1], BinaryOperator):\n",
    "                    while siding_stack[-1] >= token:\n",
    "                        rpn_output.append(siding_stack.pop())\n",
    "\n",
    "            # And finally our operator can go on the siding stack\n",
    "            siding_stack.append(token)\n",
    "\n",
    "        if log:\n",
    "            print(f'Processed token: {token}')\n",
    "            print(f'Output: {rpn_output}')\n",
    "            print(f'Siding stack: {siding_stack}')\n",
    "            print('')\n",
    "\n",
    "    while siding_stack:\n",
    "        rpn_output.append(siding_stack.pop())\n",
    "\n",
    "        if log:\n",
    "            print(f'Output: {rpn_output}')\n",
    "            print(f'Siding stack: {siding_stack}')\n",
    "            print('')\n",
    "    return rpn_output"
   ],
   "id": "ec357f9a3e1616e0",
   "outputs": [],
   "execution_count": 91
  },
  {
   "metadata": {
    "ExecuteTime": {
     "end_time": "2025-06-12T22:26:58.848206Z",
     "start_time": "2025-06-12T22:26:58.845009Z"
    }
   },
   "cell_type": "code",
   "source": "rpn = infix_to_rpn(infix_tokens, log=True)\n",
   "id": "e50b7bbef42b37c5",
   "outputs": [
    {
     "name": "stdout",
     "output_type": "stream",
     "text": [
      "Processed token: (\n",
      "Output: \n",
      "Siding stack: [<left bracket (, matches )>]\n",
      "\n",
      "Processed token: (\n",
      "Output: \n",
      "Siding stack: [<left bracket (, matches )>, <left bracket (, matches )>]\n",
      "\n",
      "Processed token: 12\n",
      "Output: 12\n",
      "Siding stack: [<left bracket (, matches )>, <left bracket (, matches )>]\n",
      "\n",
      "Processed token: +\n",
      "Output: 12\n",
      "Siding stack: [<left bracket (, matches )>, <left bracket (, matches )>, <+, precedence=1>]\n",
      "\n",
      "Processed token: 10\n",
      "Output: 12 10\n",
      "Siding stack: [<left bracket (, matches )>, <left bracket (, matches )>, <+, precedence=1>]\n",
      "\n",
      "Processed token: )\n",
      "Output: 12 10 +\n",
      "Siding stack: [<left bracket (, matches )>]\n",
      "\n",
      "Processed token: *\n",
      "Output: 12 10 +\n",
      "Siding stack: [<left bracket (, matches )>, <*, precedence=2>]\n",
      "\n",
      "Processed token: 3\n",
      "Output: 12 10 + 3\n",
      "Siding stack: [<left bracket (, matches )>, <*, precedence=2>]\n",
      "\n",
      "Processed token: )\n",
      "Output: 12 10 + 3 *\n",
      "Siding stack: []\n",
      "\n",
      "Processed token: /\n",
      "Output: 12 10 + 3 *\n",
      "Siding stack: [</, precedence=2>]\n",
      "\n",
      "Processed token: (\n",
      "Output: 12 10 + 3 *\n",
      "Siding stack: [</, precedence=2>, <left bracket (, matches )>]\n",
      "\n",
      "Processed token: 13\n",
      "Output: 12 10 + 3 * 13\n",
      "Siding stack: [</, precedence=2>, <left bracket (, matches )>]\n",
      "\n",
      "Processed token: -\n",
      "Output: 12 10 + 3 * 13\n",
      "Siding stack: [</, precedence=2>, <left bracket (, matches )>, <-, precedence=1>]\n",
      "\n",
      "Processed token: 2\n",
      "Output: 12 10 + 3 * 13 2\n",
      "Siding stack: [</, precedence=2>, <left bracket (, matches )>, <-, precedence=1>]\n",
      "\n",
      "Processed token: )\n",
      "Output: 12 10 + 3 * 13 2 -\n",
      "Siding stack: [</, precedence=2>]\n",
      "\n",
      "Output: 12 10 + 3 * 13 2 - /\n",
      "Siding stack: []\n",
      "\n"
     ]
    }
   ],
   "execution_count": 92
  },
  {
   "metadata": {
    "ExecuteTime": {
     "end_time": "2025-06-12T22:26:59.352876Z",
     "start_time": "2025-06-12T22:26:59.349417Z"
    }
   },
   "cell_type": "code",
   "source": "rpn.eval(log=True)",
   "id": "43303d49de287497",
   "outputs": [
    {
     "name": "stdout",
     "output_type": "stream",
     "text": [
      "Processed 12 giving [<number, value=12>]\n",
      "Processed 10 giving [<number, value=12>, <number, value=10>]\n",
      "Processed + giving [<number, value=22>]\n",
      "Processed 3 giving [<number, value=22>, <number, value=3>]\n",
      "Processed * giving [<number, value=66>]\n",
      "Processed 13 giving [<number, value=66>, <number, value=13>]\n",
      "Processed 2 giving [<number, value=66>, <number, value=13>, <number, value=2>]\n",
      "Processed - giving [<number, value=66>, <number, value=11>]\n",
      "Processed / giving [<number, value=6>]\n"
     ]
    },
    {
     "data": {
      "text/plain": [
       "<number, value=6>"
      ]
     },
     "execution_count": 93,
     "metadata": {},
     "output_type": "execute_result"
    }
   ],
   "execution_count": 93
  },
  {
   "metadata": {
    "ExecuteTime": {
     "end_time": "2025-06-12T22:26:59.922279Z",
     "start_time": "2025-06-12T22:26:59.919836Z"
    }
   },
   "cell_type": "code",
   "source": [
    "number = Operand(name=Number.name, regex=Number.regex)\n",
    "\n",
    "language = [\n",
    "    number,\n",
    "    plus,\n",
    "    minus,\n",
    "    times,\n",
    "    divide,\n",
    "    bracket_left,\n",
    "    bracket_right,\n",
    "]"
   ],
   "id": "c729c8a6c022587f",
   "outputs": [],
   "execution_count": 94
  },
  {
   "metadata": {
    "ExecuteTime": {
     "end_time": "2025-06-12T22:27:00.674482Z",
     "start_time": "2025-06-12T22:27:00.670338Z"
    }
   },
   "cell_type": "code",
   "source": [
    "def tokenize_infix(infix_text, log=False):\n",
    "    tokens = InFix()\n",
    "    processing = True\n",
    "    while processing:\n",
    "        if log:\n",
    "            print(f'Processing {infix_text}')\n",
    "        processing = False\n",
    "        for t in language:\n",
    "            m = t.regex.match(infix_text)\n",
    "            if m:\n",
    "                if log:\n",
    "                    print(f'Matched {m.group()} as {t}')\n",
    "                processing = True\n",
    "                infix_text = infix_text[m.end():]\n",
    "                if t is number:\n",
    "                    print(t, m.group())\n",
    "                    tokens.append(Number(m.group()))\n",
    "                else:\n",
    "                    tokens.append(t)\n",
    "                break\n",
    "        print(f'InFix tokens: {tokens}')\n",
    "    return tokens"
   ],
   "id": "e11413ba2d53d816",
   "outputs": [],
   "execution_count": 95
  },
  {
   "metadata": {
    "ExecuteTime": {
     "end_time": "2025-06-12T22:27:34.052458Z",
     "start_time": "2025-06-12T22:27:34.049310Z"
    }
   },
   "cell_type": "code",
   "source": "my_tokens = tokenize_infix('(5-2)*(7+2)', True)",
   "id": "5e67c520abfce175",
   "outputs": [
    {
     "name": "stdout",
     "output_type": "stream",
     "text": [
      "Processing (5-2)*(7+2)\n",
      "Matched ( as (\n",
      "InFix tokens: (\n",
      "Processing 5-2)*(7+2)\n",
      "Matched 5 as None\n",
      "None 5\n",
      "InFix tokens: ( 5\n",
      "Processing -2)*(7+2)\n",
      "Matched - as -\n",
      "InFix tokens: ( 5 -\n",
      "Processing 2)*(7+2)\n",
      "Matched 2 as None\n",
      "None 2\n",
      "InFix tokens: ( 5 - 2\n",
      "Processing )*(7+2)\n",
      "Matched ) as )\n",
      "InFix tokens: ( 5 - 2 )\n",
      "Processing *(7+2)\n",
      "Matched * as *\n",
      "InFix tokens: ( 5 - 2 ) *\n",
      "Processing (7+2)\n",
      "Matched ( as (\n",
      "InFix tokens: ( 5 - 2 ) * (\n",
      "Processing 7+2)\n",
      "Matched 7 as None\n",
      "None 7\n",
      "InFix tokens: ( 5 - 2 ) * ( 7\n",
      "Processing +2)\n",
      "Matched + as +\n",
      "InFix tokens: ( 5 - 2 ) * ( 7 +\n",
      "Processing 2)\n",
      "Matched 2 as None\n",
      "None 2\n",
      "InFix tokens: ( 5 - 2 ) * ( 7 + 2\n",
      "Processing )\n",
      "Matched ) as )\n",
      "InFix tokens: ( 5 - 2 ) * ( 7 + 2 )\n",
      "Processing \n",
      "InFix tokens: ( 5 - 2 ) * ( 7 + 2 )\n"
     ]
    }
   ],
   "execution_count": 101
  },
  {
   "metadata": {
    "ExecuteTime": {
     "end_time": "2025-06-12T22:27:34.772667Z",
     "start_time": "2025-06-12T22:27:34.770244Z"
    }
   },
   "cell_type": "code",
   "source": "print(my_tokens)\n",
   "id": "459a05435e214098",
   "outputs": [
    {
     "name": "stdout",
     "output_type": "stream",
     "text": [
      "( 5 - 2 ) * ( 7 + 2 )\n"
     ]
    }
   ],
   "execution_count": 102
  },
  {
   "metadata": {
    "ExecuteTime": {
     "end_time": "2025-06-12T22:27:35.752747Z",
     "start_time": "2025-06-12T22:27:35.749231Z"
    }
   },
   "cell_type": "code",
   "source": "rpn = infix_to_rpn(my_tokens, log=True)\n",
   "id": "7ccc329d992da51f",
   "outputs": [
    {
     "name": "stdout",
     "output_type": "stream",
     "text": [
      "Processed token: (\n",
      "Output: \n",
      "Siding stack: [<left bracket (, matches )>]\n",
      "\n",
      "Processed token: 5\n",
      "Output: 5\n",
      "Siding stack: [<left bracket (, matches )>]\n",
      "\n",
      "Processed token: -\n",
      "Output: 5\n",
      "Siding stack: [<left bracket (, matches )>, <-, precedence=1>]\n",
      "\n",
      "Processed token: 2\n",
      "Output: 5 2\n",
      "Siding stack: [<left bracket (, matches )>, <-, precedence=1>]\n",
      "\n",
      "Processed token: )\n",
      "Output: 5 2 -\n",
      "Siding stack: []\n",
      "\n",
      "Processed token: *\n",
      "Output: 5 2 -\n",
      "Siding stack: [<*, precedence=2>]\n",
      "\n",
      "Processed token: (\n",
      "Output: 5 2 -\n",
      "Siding stack: [<*, precedence=2>, <left bracket (, matches )>]\n",
      "\n",
      "Processed token: 7\n",
      "Output: 5 2 - 7\n",
      "Siding stack: [<*, precedence=2>, <left bracket (, matches )>]\n",
      "\n",
      "Processed token: +\n",
      "Output: 5 2 - 7\n",
      "Siding stack: [<*, precedence=2>, <left bracket (, matches )>, <+, precedence=1>]\n",
      "\n",
      "Processed token: 2\n",
      "Output: 5 2 - 7 2\n",
      "Siding stack: [<*, precedence=2>, <left bracket (, matches )>, <+, precedence=1>]\n",
      "\n",
      "Processed token: )\n",
      "Output: 5 2 - 7 2 +\n",
      "Siding stack: [<*, precedence=2>]\n",
      "\n",
      "Output: 5 2 - 7 2 + *\n",
      "Siding stack: []\n",
      "\n"
     ]
    }
   ],
   "execution_count": 103
  },
  {
   "metadata": {
    "ExecuteTime": {
     "end_time": "2025-06-12T22:27:40.188045Z",
     "start_time": "2025-06-12T22:27:40.186003Z"
    }
   },
   "cell_type": "code",
   "source": "print(rpn)",
   "id": "d4e98f8c9d50a5d3",
   "outputs": [
    {
     "name": "stdout",
     "output_type": "stream",
     "text": [
      "5 2 - 7 2 + *\n"
     ]
    }
   ],
   "execution_count": 104
  },
  {
   "metadata": {
    "ExecuteTime": {
     "end_time": "2025-06-12T22:27:42.123418Z",
     "start_time": "2025-06-12T22:27:42.119510Z"
    }
   },
   "cell_type": "code",
   "source": "rpn.eval()",
   "id": "8f4b8e890b26187c",
   "outputs": [
    {
     "data": {
      "text/plain": [
       "<number, value=27>"
      ]
     },
     "execution_count": 105,
     "metadata": {},
     "output_type": "execute_result"
    }
   ],
   "execution_count": 105
  },
  {
   "metadata": {},
   "cell_type": "code",
   "outputs": [],
   "execution_count": null,
   "source": "",
   "id": "75aca824cc1754a4"
  }
 ],
 "metadata": {
  "kernelspec": {
   "display_name": "Python 3",
   "language": "python",
   "name": "python3"
  },
  "language_info": {
   "codemirror_mode": {
    "name": "ipython",
    "version": 2
   },
   "file_extension": ".py",
   "mimetype": "text/x-python",
   "name": "python",
   "nbconvert_exporter": "python",
   "pygments_lexer": "ipython2",
   "version": "2.7.6"
  }
 },
 "nbformat": 4,
 "nbformat_minor": 5
}
