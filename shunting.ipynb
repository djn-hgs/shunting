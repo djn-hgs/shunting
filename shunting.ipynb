{
 "cells": [
  {
   "metadata": {
    "ExecuteTime": {
     "end_time": "2025-06-10T08:34:06.330063Z",
     "start_time": "2025-06-10T08:34:06.323989Z"
    }
   },
   "cell_type": "code",
   "source": [
    "import re\n",
    "from modulefinder import replacePackageMap\n",
    "\n",
    "\n",
    "class Token:\n",
    "    def __init__(self, name, regex):\n",
    "        self.name = name\n",
    "        self.regex = re.compile(regex)\n",
    "\n",
    "    def matches(self, text):\n",
    "        return self.regex.match(text) is not None\n",
    "\n",
    "    def __repr__(self):\n",
    "        return str(self.name)\n",
    "\n",
    "    def __str__(self):\n",
    "        return str(self.name)"
   ],
   "id": "e132fd08b4a39f90",
   "outputs": [],
   "execution_count": 18
  },
  {
   "metadata": {
    "collapsed": true,
    "ExecuteTime": {
     "end_time": "2025-06-10T08:34:06.357567Z",
     "start_time": "2025-06-10T08:34:06.352378Z"
    }
   },
   "cell_type": "code",
   "source": [
    "\n",
    "class BinaryOperator(Token):\n",
    "    def __init__(self, name, regex, precedence, fn=None):\n",
    "        super().__init__(name, regex)\n",
    "        self.precedence = precedence\n",
    "        self.fn = fn\n",
    "\n",
    "    def __repr__(self):\n",
    "        return f'<{self.name}, precedence={self.precedence}>'\n",
    "\n",
    "    def __gt__(self, other):\n",
    "        return self.precedence > other.precedence\n",
    "\n",
    "    def __lt__(self, other):\n",
    "        return self.precedence < other.precedence\n",
    "\n",
    "    def __eq__(self, other):\n",
    "        return self.precedence == other.precedence"
   ],
   "id": "initial_id",
   "outputs": [],
   "execution_count": 19
  },
  {
   "metadata": {
    "ExecuteTime": {
     "end_time": "2025-06-10T08:34:06.394063Z",
     "start_time": "2025-06-10T08:34:06.389096Z"
    }
   },
   "cell_type": "code",
   "source": [
    "plus = BinaryOperator('+', r'\\+', 1, lambda a, b: a + b)\n",
    "minus = BinaryOperator('-', r'\\-', 1, lambda a, b: a - b)\n",
    "times = BinaryOperator('*', r'\\*', 2, lambda a, b: a * b)\n",
    "divide = BinaryOperator('/', r'\\/', 2, lambda a, b: a / b)\n",
    "operators = [\n",
    "    plus,\n",
    "    minus,\n",
    "    times,\n",
    "    divide,\n",
    "]"
   ],
   "id": "3d7c0918093496a7",
   "outputs": [],
   "execution_count": 20
  },
  {
   "metadata": {
    "ExecuteTime": {
     "end_time": "2025-06-10T08:34:06.444672Z",
     "start_time": "2025-06-10T08:34:06.437059Z"
    }
   },
   "cell_type": "code",
   "source": [
    "class Bracket(Token):\n",
    "    def __init__(self, name, regex, pair=None):\n",
    "        super().__init__(name, regex)\n",
    "        self.pair = pair\n",
    "\n",
    "    def __repr__(self):\n",
    "        return f'<bracket {self.name}, matches {self.pair}>'\n",
    "\n",
    "    def set_pair(self, other):\n",
    "        self.pair = other\n",
    "\n",
    "    def pairs_with(self, other):\n",
    "        return self.pair == other\n",
    "\n",
    "\n",
    "class LeftBracket(Bracket):\n",
    "    def __init__(self, name, regex, pair=None):\n",
    "        super().__init__(name, regex, pair)\n",
    "\n",
    "    def __repr__(self):\n",
    "        return f'<left bracket {self.name}, matches {self.pair}>'\n",
    "\n",
    "class RightBracket(Bracket):\n",
    "    def __init__(self, name, regex, pair=None):\n",
    "        super().__init__(name, regex, pair)\n",
    "\n",
    "    def __repr__(self):\n",
    "        return f'<right bracket {self.name}, matches {self.pair}>'\n"
   ],
   "id": "5d880b9b7f9ed8c0",
   "outputs": [],
   "execution_count": 21
  },
  {
   "metadata": {
    "ExecuteTime": {
     "end_time": "2025-06-10T08:34:06.465595Z",
     "start_time": "2025-06-10T08:34:06.460754Z"
    }
   },
   "cell_type": "code",
   "source": [
    "bracket_left = LeftBracket('(', r'\\(')\n",
    "bracket_right = RightBracket(')', r'\\)', pair=bracket_left)\n",
    "\n",
    "bracket_left.set_pair(bracket_right)"
   ],
   "id": "42578c948d365007",
   "outputs": [],
   "execution_count": 22
  },
  {
   "metadata": {
    "ExecuteTime": {
     "end_time": "2025-06-10T08:34:06.486203Z",
     "start_time": "2025-06-10T08:34:06.481174Z"
    }
   },
   "cell_type": "code",
   "source": [
    "brackets = [\n",
    "    bracket_left,\n",
    "    bracket_right,\n",
    "]"
   ],
   "id": "5bfdf811e048612e",
   "outputs": [],
   "execution_count": 23
  },
  {
   "metadata": {
    "ExecuteTime": {
     "end_time": "2025-06-10T08:34:06.507971Z",
     "start_time": "2025-06-10T08:34:06.500978Z"
    }
   },
   "cell_type": "code",
   "source": [
    "class Operand(Token):\n",
    "    def __init__(self, name, regex, value=None):\n",
    "        super().__init__(name, regex)\n",
    "        self.value = value\n",
    "\n",
    "    def __str__(self):\n",
    "        return f'{self.value}'\n",
    "\n",
    "    def __repr__(self):\n",
    "        return f'<{self.name}, value={self.value}>'\n",
    "\n",
    "class Number(Operand):\n",
    "    regex = re.compile(r'\\d+')\n",
    "    def __init__(self, value):\n",
    "        super().__init__(name='number', regex=r'\\d+', value=value)"
   ],
   "id": "1962e27a78dcea70",
   "outputs": [],
   "execution_count": 24
  },
  {
   "metadata": {
    "ExecuteTime": {
     "end_time": "2025-06-10T08:34:06.527399Z",
     "start_time": "2025-06-10T08:34:06.522690Z"
    }
   },
   "cell_type": "code",
   "source": [
    "class InFix(list):\n",
    "    def __str__(self):\n",
    "        return ' '.join(map(str, self))"
   ],
   "id": "11a82c1380c81639",
   "outputs": [],
   "execution_count": 25
  },
  {
   "metadata": {
    "ExecuteTime": {
     "end_time": "2025-06-10T08:34:06.548984Z",
     "start_time": "2025-06-10T08:34:06.545008Z"
    }
   },
   "cell_type": "code",
   "source": [
    "infix_tokens = InFix([\n",
    "    bracket_left,\n",
    "    bracket_left,\n",
    "    Number(12),\n",
    "    plus,\n",
    "    Number(10),\n",
    "    bracket_right,\n",
    "    times,\n",
    "    Number(3),\n",
    "    bracket_right,\n",
    "    divide,\n",
    "    bracket_left,\n",
    "    Number(13),\n",
    "    minus,\n",
    "    Number(2),\n",
    "    bracket_right,\n",
    "    ]\n",
    ")"
   ],
   "id": "5a03e28b7d55e311",
   "outputs": [],
   "execution_count": 26
  },
  {
   "metadata": {
    "ExecuteTime": {
     "end_time": "2025-06-10T08:34:06.569309Z",
     "start_time": "2025-06-10T08:34:06.561838Z"
    }
   },
   "cell_type": "code",
   "source": "infix_tokens",
   "id": "8edf5c216f229098",
   "outputs": [
    {
     "data": {
      "text/plain": [
       "[<left bracket (, matches )>,\n",
       " <left bracket (, matches )>,\n",
       " <number, value=12>,\n",
       " <+, precedence=1>,\n",
       " <number, value=10>,\n",
       " <right bracket ), matches (>,\n",
       " <*, precedence=2>,\n",
       " <number, value=3>,\n",
       " <right bracket ), matches (>,\n",
       " </, precedence=2>,\n",
       " <left bracket (, matches )>,\n",
       " <number, value=13>,\n",
       " <-, precedence=1>,\n",
       " <number, value=2>,\n",
       " <right bracket ), matches (>]"
      ]
     },
     "execution_count": 27,
     "metadata": {},
     "output_type": "execute_result"
    }
   ],
   "execution_count": 27
  },
  {
   "metadata": {
    "ExecuteTime": {
     "end_time": "2025-06-10T08:34:06.604736Z",
     "start_time": "2025-06-10T08:34:06.599173Z"
    }
   },
   "cell_type": "code",
   "source": "print(infix_tokens)",
   "id": "835cd4cd537b41e5",
   "outputs": [
    {
     "name": "stdout",
     "output_type": "stream",
     "text": [
      "( ( 12 + 10 ) * 3 ) / ( 13 - 2 )\n"
     ]
    }
   ],
   "execution_count": 28
  },
  {
   "metadata": {
    "ExecuteTime": {
     "end_time": "2025-06-10T08:34:06.651593Z",
     "start_time": "2025-06-10T08:34:06.645321Z"
    }
   },
   "cell_type": "code",
   "source": [
    "class RPN(list):\n",
    "    def __str__(self):\n",
    "        return ' '.join(map(str, self))\n",
    "\n",
    "    def eval(self, log=False):\n",
    "        rpn_stack = []\n",
    "\n",
    "        for t in self:\n",
    "            if isinstance(t, BinaryOperator):\n",
    "                b = rpn_stack.pop()\n",
    "                a = rpn_stack.pop()\n",
    "                c = t.fn(a.value, b.value)\n",
    "                rpn_stack.append(Number(c))\n",
    "            else:\n",
    "                rpn_stack.append(t)\n",
    "\n",
    "            if log:\n",
    "                print(f'Processed {t} giving {rpn_stack}')\n",
    "        return rpn_stack.pop()\n"
   ],
   "id": "c518759f1f29a019",
   "outputs": [],
   "execution_count": 29
  },
  {
   "metadata": {
    "ExecuteTime": {
     "end_time": "2025-06-10T08:34:06.695709Z",
     "start_time": "2025-06-10T08:34:06.688041Z"
    }
   },
   "cell_type": "code",
   "source": [
    "def infix_to_rpn(infix_tokens, log=False):\n",
    "    siding_stack = []\n",
    "    rpn_output = RPN()\n",
    "\n",
    "    # Work through the infix tokens\n",
    "\n",
    "    for token in infix_tokens:\n",
    "\n",
    "        # Numbers go straight to our RPN output\n",
    "\n",
    "        if isinstance(token, Number):\n",
    "            rpn_output.append(token)\n",
    "\n",
    "        # Left brackets go straight onto the siding\n",
    "\n",
    "        elif isinstance(token, LeftBracket):\n",
    "            siding_stack.append(token)\n",
    "\n",
    "        # Right brackets mean that the calculation thus far is higher\n",
    "        # precedence than whatever follows, and so we push operators\n",
    "        # to the output until we reach a left bracket\n",
    "\n",
    "        elif isinstance(token, RightBracket):\n",
    "\n",
    "            popping_operators = True\n",
    "\n",
    "            while popping_operators:\n",
    "                next_token = siding_stack.pop()\n",
    "                if isinstance(next_token, BinaryOperator):\n",
    "                    rpn_output.append(next_token)\n",
    "                elif isinstance(next_token, LeftBracket):\n",
    "                    popping_operators = False\n",
    "\n",
    "        elif isinstance(token, BinaryOperator):\n",
    "            # If we have an operator then we need to look to see what's on the\n",
    "            # siding stack. We start by checking that it isn't empty.\n",
    "\n",
    "            if siding_stack:\n",
    "                # If there's a bracket then... no precedence will do...\n",
    "                # Nothing to see here, move on\n",
    "\n",
    "                if isinstance(siding_stack[-1], LeftBracket):\n",
    "                    pass\n",
    "\n",
    "                # Otherwise we pop all operators with higher precedence\n",
    "                # There may be no popping at all, notice\n",
    "                elif isinstance(siding_stack[-1], BinaryOperator):\n",
    "                    while siding_stack[-1] >= token:\n",
    "                        rpn_output.append(siding_stack.pop())\n",
    "\n",
    "            # And finally our operator can go on the siding stack\n",
    "            siding_stack.append(token)\n",
    "\n",
    "        if log:\n",
    "            print(f'Processed token: {token}')\n",
    "            print(f'Output: {rpn_output}')\n",
    "            print(f'Siding stack: {siding_stack}')\n",
    "            print('')\n",
    "\n",
    "    while siding_stack:\n",
    "        rpn_output.append(siding_stack.pop())\n",
    "\n",
    "        if log:\n",
    "            print(f'Output: {rpn_output}')\n",
    "            print(f'Siding stack: {siding_stack}')\n",
    "            print('')\n",
    "    return rpn_output"
   ],
   "id": "ec357f9a3e1616e0",
   "outputs": [],
   "execution_count": 30
  },
  {
   "metadata": {
    "ExecuteTime": {
     "end_time": "2025-06-10T08:34:06.710289Z",
     "start_time": "2025-06-10T08:34:06.705332Z"
    }
   },
   "cell_type": "code",
   "source": "rpn = infix_to_rpn(infix_tokens, log=True)\n",
   "id": "e50b7bbef42b37c5",
   "outputs": [
    {
     "name": "stdout",
     "output_type": "stream",
     "text": [
      "Processed token: (\n",
      "Output: \n",
      "Siding stack: [<left bracket (, matches )>]\n",
      "\n",
      "Processed token: (\n",
      "Output: \n",
      "Siding stack: [<left bracket (, matches )>, <left bracket (, matches )>]\n",
      "\n",
      "Processed token: 12\n",
      "Output: 12\n",
      "Siding stack: [<left bracket (, matches )>, <left bracket (, matches )>]\n",
      "\n",
      "Processed token: +\n",
      "Output: 12\n",
      "Siding stack: [<left bracket (, matches )>, <left bracket (, matches )>, <+, precedence=1>]\n",
      "\n",
      "Processed token: 10\n",
      "Output: 12 10\n",
      "Siding stack: [<left bracket (, matches )>, <left bracket (, matches )>, <+, precedence=1>]\n",
      "\n",
      "Processed token: )\n",
      "Output: 12 10 +\n",
      "Siding stack: [<left bracket (, matches )>]\n",
      "\n",
      "Processed token: *\n",
      "Output: 12 10 +\n",
      "Siding stack: [<left bracket (, matches )>, <*, precedence=2>]\n",
      "\n",
      "Processed token: 3\n",
      "Output: 12 10 + 3\n",
      "Siding stack: [<left bracket (, matches )>, <*, precedence=2>]\n",
      "\n",
      "Processed token: )\n",
      "Output: 12 10 + 3 *\n",
      "Siding stack: []\n",
      "\n",
      "Processed token: /\n",
      "Output: 12 10 + 3 *\n",
      "Siding stack: [</, precedence=2>]\n",
      "\n",
      "Processed token: (\n",
      "Output: 12 10 + 3 *\n",
      "Siding stack: [</, precedence=2>, <left bracket (, matches )>]\n",
      "\n",
      "Processed token: 13\n",
      "Output: 12 10 + 3 * 13\n",
      "Siding stack: [</, precedence=2>, <left bracket (, matches )>]\n",
      "\n",
      "Processed token: -\n",
      "Output: 12 10 + 3 * 13\n",
      "Siding stack: [</, precedence=2>, <left bracket (, matches )>, <-, precedence=1>]\n",
      "\n",
      "Processed token: 2\n",
      "Output: 12 10 + 3 * 13 2\n",
      "Siding stack: [</, precedence=2>, <left bracket (, matches )>, <-, precedence=1>]\n",
      "\n",
      "Processed token: )\n",
      "Output: 12 10 + 3 * 13 2 -\n",
      "Siding stack: [</, precedence=2>]\n",
      "\n",
      "Output: 12 10 + 3 * 13 2 - /\n",
      "Siding stack: []\n",
      "\n"
     ]
    }
   ],
   "execution_count": 31
  },
  {
   "metadata": {
    "ExecuteTime": {
     "end_time": "2025-06-10T08:34:06.736794Z",
     "start_time": "2025-06-10T08:34:06.728754Z"
    }
   },
   "cell_type": "code",
   "source": "rpn.eval(log=True)",
   "id": "43303d49de287497",
   "outputs": [
    {
     "name": "stdout",
     "output_type": "stream",
     "text": [
      "Processed 12 giving [<number, value=12>]\n",
      "Processed 10 giving [<number, value=12>, <number, value=10>]\n",
      "Processed + giving [<number, value=22>]\n",
      "Processed 3 giving [<number, value=22>, <number, value=3>]\n",
      "Processed * giving [<number, value=66>]\n",
      "Processed 13 giving [<number, value=66>, <number, value=13>]\n",
      "Processed 2 giving [<number, value=66>, <number, value=13>, <number, value=2>]\n",
      "Processed - giving [<number, value=66>, <number, value=11>]\n",
      "Processed / giving [<number, value=6.0>]\n"
     ]
    },
    {
     "data": {
      "text/plain": [
       "<number, value=6.0>"
      ]
     },
     "execution_count": 32,
     "metadata": {},
     "output_type": "execute_result"
    }
   ],
   "execution_count": 32
  },
  {
   "metadata": {
    "ExecuteTime": {
     "end_time": "2025-06-10T08:34:06.774672Z",
     "start_time": "2025-06-10T08:34:06.768827Z"
    }
   },
   "cell_type": "code",
   "source": [
    "language = [\n",
    "    Number,\n",
    "    plus,\n",
    "    minus,\n",
    "    times,\n",
    "    divide,\n",
    "    bracket_left,\n",
    "    bracket_right,\n",
    "]\n",
    "def tokenize_infix(infix_text, log=False):\n",
    "    tokens = InFix()\n",
    "    processing = True\n",
    "    while processing:\n",
    "        if log:\n",
    "            print(f'Processing {infix_text}')\n",
    "        processing = False\n",
    "        for t in language:\n",
    "            m = t.regex.match(infix_text)\n",
    "            if m:\n",
    "                if log:\n",
    "                    print(f'Matched {m.group()} as {t}')\n",
    "                processing = True\n",
    "                infix_text = infix_text[m.end():]\n",
    "                if t == Number:\n",
    "                    tokens.append(Number(m.group()))\n",
    "                else:\n",
    "                    tokens.append(t)\n",
    "                break\n",
    "        print(f'InFix tokens: {tokens}')\n",
    "    return tokens"
   ],
   "id": "e11413ba2d53d816",
   "outputs": [],
   "execution_count": 33
  },
  {
   "metadata": {},
   "cell_type": "code",
   "outputs": [],
   "execution_count": null,
   "source": "",
   "id": "459a05435e214098"
  }
 ],
 "metadata": {
  "kernelspec": {
   "display_name": "Python 3",
   "language": "python",
   "name": "python3"
  },
  "language_info": {
   "codemirror_mode": {
    "name": "ipython",
    "version": 2
   },
   "file_extension": ".py",
   "mimetype": "text/x-python",
   "name": "python",
   "nbconvert_exporter": "python",
   "pygments_lexer": "ipython2",
   "version": "2.7.6"
  }
 },
 "nbformat": 4,
 "nbformat_minor": 5
}
