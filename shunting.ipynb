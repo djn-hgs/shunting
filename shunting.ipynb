{
 "cells": [
  {
   "metadata": {
    "ExecuteTime": {
     "end_time": "2025-06-09T23:07:03.084876Z",
     "start_time": "2025-06-09T23:07:03.080546Z"
    }
   },
   "cell_type": "code",
   "source": [
    "import re\n",
    "from modulefinder import replacePackageMap\n",
    "\n",
    "\n",
    "class Token:\n",
    "    def __init__(self, name, regex):\n",
    "        self.name = name\n",
    "        self.regex = re.compile(regex)\n",
    "\n",
    "    def matches(self, text):\n",
    "        return self.regex.match(text) is not None\n",
    "\n",
    "    def __repr__(self):\n",
    "        return str(self.name)\n",
    "\n",
    "    def __str__(self):\n",
    "        return str(self.name)"
   ],
   "id": "e132fd08b4a39f90",
   "outputs": [],
   "execution_count": 204
  },
  {
   "metadata": {
    "collapsed": true,
    "ExecuteTime": {
     "end_time": "2025-06-09T23:07:03.098111Z",
     "start_time": "2025-06-09T23:07:03.094483Z"
    }
   },
   "cell_type": "code",
   "source": [
    "\n",
    "class BinaryOperator(Token):\n",
    "    def __init__(self, name, regex, precedence, fn=None):\n",
    "        super().__init__(name, regex)\n",
    "        self.precedence = precedence\n",
    "        self.fn = fn\n",
    "\n",
    "    def __repr__(self):\n",
    "        return f'<{self.name}, precedence={self.precedence}>'\n",
    "\n",
    "    def __gt__(self, other):\n",
    "        return self.precedence > other.precedence\n",
    "\n",
    "    def __lt__(self, other):\n",
    "        return self.precedence < other.precedence\n",
    "\n",
    "    def __eq__(self, other):\n",
    "        return self.precedence == other.precedence"
   ],
   "id": "initial_id",
   "outputs": [],
   "execution_count": 205
  },
  {
   "metadata": {
    "ExecuteTime": {
     "end_time": "2025-06-09T23:07:03.107124Z",
     "start_time": "2025-06-09T23:07:03.104310Z"
    }
   },
   "cell_type": "code",
   "source": [
    "plus = BinaryOperator('+', r'\\+', 1, lambda a, b: a + b)\n",
    "minus = BinaryOperator('-', r'\\-', 1, lambda a, b: a - b)\n",
    "times = BinaryOperator('*', r'\\*', 2, lambda a, b: a * b)\n",
    "divide = BinaryOperator('/', r'\\/', 2, lambda a, b: a / b)\n",
    "operators = [\n",
    "    plus,\n",
    "    minus,\n",
    "    times,\n",
    "    divide,\n",
    "]"
   ],
   "id": "3d7c0918093496a7",
   "outputs": [],
   "execution_count": 206
  },
  {
   "metadata": {
    "ExecuteTime": {
     "end_time": "2025-06-09T23:07:03.115887Z",
     "start_time": "2025-06-09T23:07:03.112370Z"
    }
   },
   "cell_type": "code",
   "source": [
    "class Bracket(Token):\n",
    "    def __init__(self, name, regex, pair=None):\n",
    "        super().__init__(name, regex)\n",
    "        self.pair = pair\n",
    "\n",
    "    def __repr__(self):\n",
    "        return f'<bracket {self.name}, matches {self.pair}>'\n",
    "\n",
    "    def set_pair(self, other):\n",
    "        self.pair = other\n",
    "\n",
    "    def pairs_with(self, other):\n",
    "        return self.pair == other\n",
    "\n",
    "\n",
    "class LeftBracket(Bracket):\n",
    "    def __init__(self, name, regex, pair=None):\n",
    "        super().__init__(name, regex, pair)\n",
    "\n",
    "    def __repr__(self):\n",
    "        return f'<left bracket {self.name}, matches {self.pair}>'\n",
    "\n",
    "class RightBracket(Bracket):\n",
    "    def __init__(self, name, regex, pair=None):\n",
    "        super().__init__(name, regex, pair)\n",
    "\n",
    "    def __repr__(self):\n",
    "        return f'<right bracket {self.name}, matches {self.pair}>'\n"
   ],
   "id": "5d880b9b7f9ed8c0",
   "outputs": [],
   "execution_count": 207
  },
  {
   "metadata": {
    "ExecuteTime": {
     "end_time": "2025-06-09T23:07:03.123299Z",
     "start_time": "2025-06-09T23:07:03.121024Z"
    }
   },
   "cell_type": "code",
   "source": [
    "bracket_left = LeftBracket('(', r'\\(')\n",
    "bracket_right = RightBracket(')', r'\\)', pair=bracket_left)\n",
    "\n",
    "bracket_left.set_pair(bracket_right)"
   ],
   "id": "42578c948d365007",
   "outputs": [],
   "execution_count": 208
  },
  {
   "metadata": {
    "ExecuteTime": {
     "end_time": "2025-06-09T23:07:03.130547Z",
     "start_time": "2025-06-09T23:07:03.128601Z"
    }
   },
   "cell_type": "code",
   "source": [
    "brackets = [\n",
    "    bracket_left,\n",
    "    bracket_right,\n",
    "]"
   ],
   "id": "5bfdf811e048612e",
   "outputs": [],
   "execution_count": 209
  },
  {
   "metadata": {
    "ExecuteTime": {
     "end_time": "2025-06-09T23:13:59.463690Z",
     "start_time": "2025-06-09T23:13:59.460467Z"
    }
   },
   "cell_type": "code",
   "source": [
    "class Operand(Token):\n",
    "    def __init__(self, name, regex, value=None):\n",
    "        super().__init__(name, regex)\n",
    "        self.value = value\n",
    "\n",
    "    def __str__(self):\n",
    "        return f'{self.value}'\n",
    "\n",
    "    def __repr__(self):\n",
    "        return f'<{self.name}, value={self.value}>'\n",
    "\n",
    "class Number(Operand):\n",
    "    regex = re.compile(r'\\d+')\n",
    "    def __init__(self, value):\n",
    "        super().__init__(name='number', regex=r'\\d+', value=value)"
   ],
   "id": "1962e27a78dcea70",
   "outputs": [],
   "execution_count": 232
  },
  {
   "metadata": {
    "ExecuteTime": {
     "end_time": "2025-06-09T23:13:14.446601Z",
     "start_time": "2025-06-09T23:13:14.443929Z"
    }
   },
   "cell_type": "code",
   "source": [
    "class InFix(list):\n",
    "    def __str__(self):\n",
    "        return ' '.join(map(str, self))"
   ],
   "id": "11a82c1380c81639",
   "outputs": [],
   "execution_count": 222
  },
  {
   "metadata": {
    "ExecuteTime": {
     "end_time": "2025-06-09T23:13:15.097978Z",
     "start_time": "2025-06-09T23:13:15.094661Z"
    }
   },
   "cell_type": "code",
   "source": [
    "infix_tokens = InFix([\n",
    "    bracket_left,\n",
    "    bracket_left,\n",
    "    Number(12),\n",
    "    plus,\n",
    "    Number(10),\n",
    "    bracket_right,\n",
    "    times,\n",
    "    Number(3),\n",
    "    bracket_right,\n",
    "    divide,\n",
    "    bracket_left,\n",
    "    Number(13),\n",
    "    minus,\n",
    "    Number(2),\n",
    "    bracket_right,\n",
    "    ]\n",
    ")"
   ],
   "id": "5a03e28b7d55e311",
   "outputs": [],
   "execution_count": 223
  },
  {
   "metadata": {
    "ExecuteTime": {
     "end_time": "2025-06-09T23:13:15.665764Z",
     "start_time": "2025-06-09T23:13:15.662166Z"
    }
   },
   "cell_type": "code",
   "source": "infix_tokens",
   "id": "8edf5c216f229098",
   "outputs": [
    {
     "data": {
      "text/plain": [
       "[<left bracket (, matches )>,\n",
       " <left bracket (, matches )>,\n",
       " <number, value=12>,\n",
       " <+, precedence=1>,\n",
       " <number, value=10>,\n",
       " <right bracket ), matches (>,\n",
       " <*, precedence=2>,\n",
       " <number, value=3>,\n",
       " <right bracket ), matches (>,\n",
       " </, precedence=2>,\n",
       " <left bracket (, matches )>,\n",
       " <number, value=13>,\n",
       " <-, precedence=1>,\n",
       " <number, value=2>,\n",
       " <right bracket ), matches (>]"
      ]
     },
     "execution_count": 224,
     "metadata": {},
     "output_type": "execute_result"
    }
   ],
   "execution_count": 224
  },
  {
   "metadata": {
    "ExecuteTime": {
     "end_time": "2025-06-09T23:13:16.216789Z",
     "start_time": "2025-06-09T23:13:16.213945Z"
    }
   },
   "cell_type": "code",
   "source": "print(infix_tokens)",
   "id": "835cd4cd537b41e5",
   "outputs": [
    {
     "name": "stdout",
     "output_type": "stream",
     "text": [
      "( ( 12 + 10 ) * 3 ) / ( 13 - 2 )\n"
     ]
    }
   ],
   "execution_count": 225
  },
  {
   "metadata": {
    "ExecuteTime": {
     "end_time": "2025-06-09T23:13:16.929768Z",
     "start_time": "2025-06-09T23:13:16.925533Z"
    }
   },
   "cell_type": "code",
   "source": [
    "class RPN(list):\n",
    "    def __str__(self):\n",
    "        return ' '.join(map(str, self))\n",
    "\n",
    "    def eval(self, log=False):\n",
    "        rpn_stack = []\n",
    "\n",
    "        for t in self:\n",
    "            if isinstance(t, BinaryOperator):\n",
    "                b = rpn_stack.pop()\n",
    "                a = rpn_stack.pop()\n",
    "                c = t.fn(a.value, b.value)\n",
    "                rpn_stack.append(Number(c))\n",
    "            else:\n",
    "                rpn_stack.append(t)\n",
    "\n",
    "            if log:\n",
    "                print(f'Processed {t} giving {rpn_stack}')\n",
    "        return rpn_stack.pop()\n"
   ],
   "id": "c518759f1f29a019",
   "outputs": [],
   "execution_count": 226
  },
  {
   "metadata": {
    "ExecuteTime": {
     "end_time": "2025-06-09T23:14:14.515667Z",
     "start_time": "2025-06-09T23:14:14.508322Z"
    }
   },
   "cell_type": "code",
   "source": [
    "def infix_to_rpn(infix_tokens, log=False):\n",
    "    siding_stack = []\n",
    "    rpn_output = RPN()\n",
    "\n",
    "    # Work through the infix tokens\n",
    "\n",
    "    for token in infix_tokens:\n",
    "\n",
    "        # Numbers go straight to our RPN output\n",
    "\n",
    "        if isinstance(token, Number):\n",
    "            rpn_output.append(token)\n",
    "\n",
    "        # Left brackets go straight onto the siding\n",
    "\n",
    "        elif isinstance(token, LeftBracket):\n",
    "            siding_stack.append(token)\n",
    "\n",
    "        # Right brackets mean that the calculation thus far is higher\n",
    "        # precedence than whatever follows, and so we push operators\n",
    "        # to the output until we reach a left bracket\n",
    "\n",
    "        elif isinstance(token, RightBracket):\n",
    "\n",
    "            popping_operators = True\n",
    "\n",
    "            while popping_operators:\n",
    "                next_token = siding_stack.pop()\n",
    "                if isinstance(next_token, BinaryOperator):\n",
    "                    rpn_output.append(next_token)\n",
    "                elif isinstance(next_token, LeftBracket):\n",
    "                    popping_operators = False\n",
    "\n",
    "        elif isinstance(token, BinaryOperator):\n",
    "            # If we have an operator then we need to look to see what's on the\n",
    "            # siding stack. We start by checking that it isn't empty.\n",
    "\n",
    "            if siding_stack:\n",
    "                # If there's a bracket then... no precedence will do...\n",
    "                # Nothing to see here, move on\n",
    "\n",
    "                if isinstance(siding_stack[-1], LeftBracket):\n",
    "                    pass\n",
    "\n",
    "                # Otherwise we pop all operators with higher precedence\n",
    "                # There may be no popping at all, notice\n",
    "                elif isinstance(siding_stack[-1], BinaryOperator):\n",
    "                    while siding_stack[-1] >= token:\n",
    "                        rpn_output.append(siding_stack.pop())\n",
    "\n",
    "            # And finally our operator can go on the siding stack\n",
    "            siding_stack.append(token)\n",
    "\n",
    "        if log:\n",
    "            print(f'Processed token: {token}')\n",
    "            print(f'Output: {rpn_output}')\n",
    "            print(f'Siding stack: {siding_stack}')\n",
    "            print('')\n",
    "\n",
    "    while siding_stack:\n",
    "        rpn_output.append(siding_stack.pop())\n",
    "\n",
    "        if log:\n",
    "            print(f'Output: {rpn_output}')\n",
    "            print(f'Siding stack: {siding_stack}')\n",
    "            print('')\n",
    "    return rpn_output"
   ],
   "id": "ec357f9a3e1616e0",
   "outputs": [],
   "execution_count": 234
  },
  {
   "metadata": {
    "ExecuteTime": {
     "end_time": "2025-06-09T23:14:14.976993Z",
     "start_time": "2025-06-09T23:14:14.973467Z"
    }
   },
   "cell_type": "code",
   "source": "rpn = infix_to_rpn(infix_tokens, log=True)\n",
   "id": "e50b7bbef42b37c5",
   "outputs": [
    {
     "name": "stdout",
     "output_type": "stream",
     "text": [
      "Processed token: (\n",
      "Output: \n",
      "Siding stack: [<left bracket (, matches )>]\n",
      "\n",
      "Processed token: (\n",
      "Output: \n",
      "Siding stack: [<left bracket (, matches )>, <left bracket (, matches )>]\n",
      "\n",
      "Processed token: 12\n",
      "Output: \n",
      "Siding stack: [<left bracket (, matches )>, <left bracket (, matches )>]\n",
      "\n",
      "Processed token: +\n",
      "Output: \n",
      "Siding stack: [<left bracket (, matches )>, <left bracket (, matches )>, <+, precedence=1>]\n",
      "\n",
      "Processed token: 10\n",
      "Output: \n",
      "Siding stack: [<left bracket (, matches )>, <left bracket (, matches )>, <+, precedence=1>]\n",
      "\n",
      "Processed token: )\n",
      "Output: +\n",
      "Siding stack: [<left bracket (, matches )>]\n",
      "\n",
      "Processed token: *\n",
      "Output: +\n",
      "Siding stack: [<left bracket (, matches )>, <*, precedence=2>]\n",
      "\n",
      "Processed token: 3\n",
      "Output: +\n",
      "Siding stack: [<left bracket (, matches )>, <*, precedence=2>]\n",
      "\n",
      "Processed token: )\n",
      "Output: + *\n",
      "Siding stack: []\n",
      "\n",
      "Processed token: /\n",
      "Output: + *\n",
      "Siding stack: [</, precedence=2>]\n",
      "\n",
      "Processed token: (\n",
      "Output: + *\n",
      "Siding stack: [</, precedence=2>, <left bracket (, matches )>]\n",
      "\n",
      "Processed token: 13\n",
      "Output: + *\n",
      "Siding stack: [</, precedence=2>, <left bracket (, matches )>]\n",
      "\n",
      "Processed token: -\n",
      "Output: + *\n",
      "Siding stack: [</, precedence=2>, <left bracket (, matches )>, <-, precedence=1>]\n",
      "\n",
      "Processed token: 2\n",
      "Output: + *\n",
      "Siding stack: [</, precedence=2>, <left bracket (, matches )>, <-, precedence=1>]\n",
      "\n",
      "Processed token: )\n",
      "Output: + * -\n",
      "Siding stack: [</, precedence=2>]\n",
      "\n",
      "Output: + * - /\n",
      "Siding stack: []\n",
      "\n"
     ]
    }
   ],
   "execution_count": 235
  },
  {
   "metadata": {
    "ExecuteTime": {
     "end_time": "2025-06-09T23:14:15.575239Z",
     "start_time": "2025-06-09T23:14:15.547064Z"
    }
   },
   "cell_type": "code",
   "source": "rpn.eval(log=True)",
   "id": "43303d49de287497",
   "outputs": [
    {
     "ename": "IndexError",
     "evalue": "pop from empty list",
     "output_type": "error",
     "traceback": [
      "\u001B[31m---------------------------------------------------------------------------\u001B[39m",
      "\u001B[31mIndexError\u001B[39m                                Traceback (most recent call last)",
      "\u001B[36mCell\u001B[39m\u001B[36m \u001B[39m\u001B[32mIn[236]\u001B[39m\u001B[32m, line 1\u001B[39m\n\u001B[32m----> \u001B[39m\u001B[32m1\u001B[39m \u001B[43mrpn\u001B[49m\u001B[43m.\u001B[49m\u001B[43meval\u001B[49m\u001B[43m(\u001B[49m\u001B[43mlog\u001B[49m\u001B[43m=\u001B[49m\u001B[38;5;28;43;01mTrue\u001B[39;49;00m\u001B[43m)\u001B[49m\n",
      "\u001B[36mCell\u001B[39m\u001B[36m \u001B[39m\u001B[32mIn[226]\u001B[39m\u001B[32m, line 10\u001B[39m, in \u001B[36mRPN.eval\u001B[39m\u001B[34m(self, log)\u001B[39m\n\u001B[32m      8\u001B[39m \u001B[38;5;28;01mfor\u001B[39;00m t \u001B[38;5;129;01min\u001B[39;00m \u001B[38;5;28mself\u001B[39m:\n\u001B[32m      9\u001B[39m     \u001B[38;5;28;01mif\u001B[39;00m \u001B[38;5;28misinstance\u001B[39m(t, BinaryOperator):\n\u001B[32m---> \u001B[39m\u001B[32m10\u001B[39m         b = \u001B[43mrpn_stack\u001B[49m\u001B[43m.\u001B[49m\u001B[43mpop\u001B[49m\u001B[43m(\u001B[49m\u001B[43m)\u001B[49m\n\u001B[32m     11\u001B[39m         a = rpn_stack.pop()\n\u001B[32m     12\u001B[39m         c = t.fn(a.value, b.value)\n",
      "\u001B[31mIndexError\u001B[39m: pop from empty list"
     ]
    }
   ],
   "execution_count": 236
  },
  {
   "metadata": {
    "ExecuteTime": {
     "end_time": "2025-06-09T23:24:50.841970Z",
     "start_time": "2025-06-09T23:24:50.836048Z"
    }
   },
   "cell_type": "code",
   "source": [
    "language = [\n",
    "    Number,\n",
    "    plus,\n",
    "    minus,\n",
    "    times,\n",
    "    divide,\n",
    "    bracket_left,\n",
    "    bracket_right,\n",
    "]\n",
    "def tokenize_infix(infix_text, log=False):\n",
    "    tokens = InFix()\n",
    "    processing = True\n",
    "    while processing:\n",
    "        if log:\n",
    "            print(f'Processing {infix_text}')\n",
    "        processing = False\n",
    "        for t in language:\n",
    "            m = t.regex.match(infix_text)\n",
    "            if m:\n",
    "                if log:\n",
    "                    print(f'Matched {m.group()} as {t}')\n",
    "                processing = True\n",
    "                infix_text = infix_text[m.end():]\n",
    "                if t == Number:\n",
    "                    tokens.append(Number(m.group()))\n",
    "                else:\n",
    "                    tokens.append(t)\n",
    "                break\n",
    "        print(f'InFix tokens: {tokens}')\n",
    "    return tokens"
   ],
   "id": "e11413ba2d53d816",
   "outputs": [],
   "execution_count": 264
  },
  {
   "metadata": {
    "ExecuteTime": {
     "end_time": "2025-06-09T23:24:51.622706Z",
     "start_time": "2025-06-09T23:24:51.585679Z"
    }
   },
   "cell_type": "code",
   "source": "tokenize_infix('3*2-7', True)",
   "id": "5e67c520abfce175",
   "outputs": [
    {
     "name": "stdout",
     "output_type": "stream",
     "text": [
      "Processing 3*2-7\n",
      "Matched 3 as <class '__main__.Number'>\n",
      "InFix tokens: 3\n",
      "Processing *2-7\n",
      "Matched * as *\n"
     ]
    },
    {
     "ename": "AttributeError",
     "evalue": "type object 'Number' has no attribute 'precedence'",
     "output_type": "error",
     "traceback": [
      "\u001B[31m---------------------------------------------------------------------------\u001B[39m",
      "\u001B[31mAttributeError\u001B[39m                            Traceback (most recent call last)",
      "\u001B[36mCell\u001B[39m\u001B[36m \u001B[39m\u001B[32mIn[265]\u001B[39m\u001B[32m, line 1\u001B[39m\n\u001B[32m----> \u001B[39m\u001B[32m1\u001B[39m \u001B[43mtokenize_infix\u001B[49m\u001B[43m(\u001B[49m\u001B[33;43m'\u001B[39;49m\u001B[33;43m3*2-7\u001B[39;49m\u001B[33;43m'\u001B[39;49m\u001B[43m,\u001B[49m\u001B[43m \u001B[49m\u001B[38;5;28;43;01mTrue\u001B[39;49;00m\u001B[43m)\u001B[49m\n",
      "\u001B[36mCell\u001B[39m\u001B[36m \u001B[39m\u001B[32mIn[264]\u001B[39m\u001B[32m, line 24\u001B[39m, in \u001B[36mtokenize_infix\u001B[39m\u001B[34m(infix_text, log)\u001B[39m\n\u001B[32m     22\u001B[39m processing = \u001B[38;5;28;01mTrue\u001B[39;00m\n\u001B[32m     23\u001B[39m infix_text = infix_text[m.end():]\n\u001B[32m---> \u001B[39m\u001B[32m24\u001B[39m \u001B[38;5;28;01mif\u001B[39;00m \u001B[43mt\u001B[49m\u001B[43m \u001B[49m\u001B[43m==\u001B[49m\u001B[43m \u001B[49m\u001B[43mNumber\u001B[49m:\n\u001B[32m     25\u001B[39m     tokens.append(Number(m.group()))\n\u001B[32m     26\u001B[39m \u001B[38;5;28;01melse\u001B[39;00m:\n",
      "\u001B[36mCell\u001B[39m\u001B[36m \u001B[39m\u001B[32mIn[205]\u001B[39m\u001B[32m, line 17\u001B[39m, in \u001B[36mBinaryOperator.__eq__\u001B[39m\u001B[34m(self, other)\u001B[39m\n\u001B[32m     16\u001B[39m \u001B[38;5;28;01mdef\u001B[39;00m\u001B[38;5;250m \u001B[39m\u001B[34m__eq__\u001B[39m(\u001B[38;5;28mself\u001B[39m, other):\n\u001B[32m---> \u001B[39m\u001B[32m17\u001B[39m     \u001B[38;5;28;01mreturn\u001B[39;00m \u001B[38;5;28mself\u001B[39m.precedence == \u001B[43mother\u001B[49m\u001B[43m.\u001B[49m\u001B[43mprecedence\u001B[49m\n",
      "\u001B[31mAttributeError\u001B[39m: type object 'Number' has no attribute 'precedence'"
     ]
    }
   ],
   "execution_count": 265
  },
  {
   "metadata": {},
   "cell_type": "code",
   "outputs": [],
   "execution_count": null,
   "source": "",
   "id": "459a05435e214098"
  }
 ],
 "metadata": {
  "kernelspec": {
   "display_name": "Python 3",
   "language": "python",
   "name": "python3"
  },
  "language_info": {
   "codemirror_mode": {
    "name": "ipython",
    "version": 2
   },
   "file_extension": ".py",
   "mimetype": "text/x-python",
   "name": "python",
   "nbconvert_exporter": "python",
   "pygments_lexer": "ipython2",
   "version": "2.7.6"
  }
 },
 "nbformat": 4,
 "nbformat_minor": 5
}
